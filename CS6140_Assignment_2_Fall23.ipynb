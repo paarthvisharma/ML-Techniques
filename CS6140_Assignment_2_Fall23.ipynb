{
  "cells": [
    {
      "cell_type": "markdown",
      "id": "43acf89c",
      "metadata": {
        "pycharm": {
          "name": "#%% md\n"
        },
        "id": "43acf89c"
      },
      "source": [
        "# Question 1 <div style=\"text-align: right\"> [10 pts] </div>"
      ]
    },
    {
      "cell_type": "markdown",
      "id": "535880e6",
      "metadata": {
        "pycharm": {
          "name": "#%% md\n"
        },
        "id": "535880e6"
      },
      "source": [
        "### 1. Import Libraries (keep them here for clarity) <div style=\"text-align: right\"> [0.25 pts] </div>"
      ]
    },
    {
      "cell_type": "code",
      "execution_count": null,
      "id": "570757b7",
      "metadata": {
        "pycharm": {
          "name": "#%%\n"
        },
        "id": "570757b7"
      },
      "outputs": [],
      "source": [
        "# General imports\n",
        "import pandas as pd\n",
        "import numpy as np\n",
        "import matplotlib.pyplot as plt\n",
        "import seaborn as sns\n",
        "\n",
        "# Imports for Assignment Part 1\n",
        "from sklearn import datasets\n",
        "from sklearn.model_selection import train_test_split\n",
        "from sklearn.linear_model import LinearRegression\n",
        "from sklearn.metrics import mean_squared_error\n",
        "from sklearn.linear_model import Ridge\n",
        "\n",
        "# Imports for Assignment Part 2\n",
        "from sklearn import metrics\n",
        "from sklearn.preprocessing import OneHotEncoder\n",
        "from sklearn.preprocessing import StandardScaler\n",
        "from sklearn.compose import ColumnTransformer\n",
        "from sklearn.pipeline import Pipeline\n",
        "from sklearn.metrics import precision_score, recall_score, f1_score, accuracy_score\n"
      ]
    },
    {
      "cell_type": "markdown",
      "id": "604a832d",
      "metadata": {
        "pycharm": {
          "name": "#%% md\n"
        },
        "id": "604a832d"
      },
      "source": [
        "### 2. Load the dataset <div style=\"text-align: right\"> [0.5 pts] </div>"
      ]
    },
    {
      "cell_type": "markdown",
      "id": "32f370cb",
      "metadata": {
        "pycharm": {
          "name": "#%% md\n"
        },
        "id": "32f370cb"
      },
      "source": [
        "#### Use : 'boston housing' dataset from sklearn"
      ]
    },
    {
      "cell_type": "code",
      "execution_count": null,
      "id": "6c12e6bb",
      "metadata": {
        "pycharm": {
          "name": "#%%\n"
        },
        "id": "6c12e6bb"
      },
      "outputs": [],
      "source": [
        "# Importing Boston housing dataset from the orignal link as sklean is deprecated\n",
        "data_url = \"http://lib.stat.cmu.edu/datasets/boston\"\n",
        "raw_df = pd.read_csv(data_url, sep=\"\\s+\", skiprows=22, header=None)"
      ]
    },
    {
      "cell_type": "markdown",
      "id": "fd30a850",
      "metadata": {
        "pycharm": {
          "name": "#%% md\n"
        },
        "id": "fd30a850"
      },
      "source": [
        "### 3.  Seggregate data in variables <div style=\"text-align: right\"> [0.25 pts] </div>"
      ]
    },
    {
      "cell_type": "code",
      "execution_count": null,
      "id": "0d687458",
      "metadata": {
        "pycharm": {
          "name": "#%%\n"
        },
        "id": "0d687458"
      },
      "outputs": [],
      "source": [
        "# Assigning data as X and target as Y\n",
        "X = np.hstack([raw_df.values[::2, :], raw_df.values[1::2, :2]])\n",
        "y = raw_df.values[1::2, 2]"
      ]
    },
    {
      "cell_type": "code",
      "source": [
        "# Printing the data and traget variables\n",
        "print(X)\n",
        "print(y)"
      ],
      "metadata": {
        "colab": {
          "base_uri": "https://localhost:8080/"
        },
        "id": "pIpITXBVs6zx",
        "outputId": "b1f66d72-de01-49ff-ef95-abd0f95486ff"
      },
      "id": "pIpITXBVs6zx",
      "execution_count": null,
      "outputs": [
        {
          "output_type": "stream",
          "name": "stdout",
          "text": [
            "[[6.3200e-03 1.8000e+01 2.3100e+00 ... 1.5300e+01 3.9690e+02 4.9800e+00]\n",
            " [2.7310e-02 0.0000e+00 7.0700e+00 ... 1.7800e+01 3.9690e+02 9.1400e+00]\n",
            " [2.7290e-02 0.0000e+00 7.0700e+00 ... 1.7800e+01 3.9283e+02 4.0300e+00]\n",
            " ...\n",
            " [6.0760e-02 0.0000e+00 1.1930e+01 ... 2.1000e+01 3.9690e+02 5.6400e+00]\n",
            " [1.0959e-01 0.0000e+00 1.1930e+01 ... 2.1000e+01 3.9345e+02 6.4800e+00]\n",
            " [4.7410e-02 0.0000e+00 1.1930e+01 ... 2.1000e+01 3.9690e+02 7.8800e+00]]\n",
            "[24.  21.6 34.7 33.4 36.2 28.7 22.9 27.1 16.5 18.9 15.  18.9 21.7 20.4\n",
            " 18.2 19.9 23.1 17.5 20.2 18.2 13.6 19.6 15.2 14.5 15.6 13.9 16.6 14.8\n",
            " 18.4 21.  12.7 14.5 13.2 13.1 13.5 18.9 20.  21.  24.7 30.8 34.9 26.6\n",
            " 25.3 24.7 21.2 19.3 20.  16.6 14.4 19.4 19.7 20.5 25.  23.4 18.9 35.4\n",
            " 24.7 31.6 23.3 19.6 18.7 16.  22.2 25.  33.  23.5 19.4 22.  17.4 20.9\n",
            " 24.2 21.7 22.8 23.4 24.1 21.4 20.  20.8 21.2 20.3 28.  23.9 24.8 22.9\n",
            " 23.9 26.6 22.5 22.2 23.6 28.7 22.6 22.  22.9 25.  20.6 28.4 21.4 38.7\n",
            " 43.8 33.2 27.5 26.5 18.6 19.3 20.1 19.5 19.5 20.4 19.8 19.4 21.7 22.8\n",
            " 18.8 18.7 18.5 18.3 21.2 19.2 20.4 19.3 22.  20.3 20.5 17.3 18.8 21.4\n",
            " 15.7 16.2 18.  14.3 19.2 19.6 23.  18.4 15.6 18.1 17.4 17.1 13.3 17.8\n",
            " 14.  14.4 13.4 15.6 11.8 13.8 15.6 14.6 17.8 15.4 21.5 19.6 15.3 19.4\n",
            " 17.  15.6 13.1 41.3 24.3 23.3 27.  50.  50.  50.  22.7 25.  50.  23.8\n",
            " 23.8 22.3 17.4 19.1 23.1 23.6 22.6 29.4 23.2 24.6 29.9 37.2 39.8 36.2\n",
            " 37.9 32.5 26.4 29.6 50.  32.  29.8 34.9 37.  30.5 36.4 31.1 29.1 50.\n",
            " 33.3 30.3 34.6 34.9 32.9 24.1 42.3 48.5 50.  22.6 24.4 22.5 24.4 20.\n",
            " 21.7 19.3 22.4 28.1 23.7 25.  23.3 28.7 21.5 23.  26.7 21.7 27.5 30.1\n",
            " 44.8 50.  37.6 31.6 46.7 31.5 24.3 31.7 41.7 48.3 29.  24.  25.1 31.5\n",
            " 23.7 23.3 22.  20.1 22.2 23.7 17.6 18.5 24.3 20.5 24.5 26.2 24.4 24.8\n",
            " 29.6 42.8 21.9 20.9 44.  50.  36.  30.1 33.8 43.1 48.8 31.  36.5 22.8\n",
            " 30.7 50.  43.5 20.7 21.1 25.2 24.4 35.2 32.4 32.  33.2 33.1 29.1 35.1\n",
            " 45.4 35.4 46.  50.  32.2 22.  20.1 23.2 22.3 24.8 28.5 37.3 27.9 23.9\n",
            " 21.7 28.6 27.1 20.3 22.5 29.  24.8 22.  26.4 33.1 36.1 28.4 33.4 28.2\n",
            " 22.8 20.3 16.1 22.1 19.4 21.6 23.8 16.2 17.8 19.8 23.1 21.  23.8 23.1\n",
            " 20.4 18.5 25.  24.6 23.  22.2 19.3 22.6 19.8 17.1 19.4 22.2 20.7 21.1\n",
            " 19.5 18.5 20.6 19.  18.7 32.7 16.5 23.9 31.2 17.5 17.2 23.1 24.5 26.6\n",
            " 22.9 24.1 18.6 30.1 18.2 20.6 17.8 21.7 22.7 22.6 25.  19.9 20.8 16.8\n",
            " 21.9 27.5 21.9 23.1 50.  50.  50.  50.  50.  13.8 13.8 15.  13.9 13.3\n",
            " 13.1 10.2 10.4 10.9 11.3 12.3  8.8  7.2 10.5  7.4 10.2 11.5 15.1 23.2\n",
            "  9.7 13.8 12.7 13.1 12.5  8.5  5.   6.3  5.6  7.2 12.1  8.3  8.5  5.\n",
            " 11.9 27.9 17.2 27.5 15.  17.2 17.9 16.3  7.   7.2  7.5 10.4  8.8  8.4\n",
            " 16.7 14.2 20.8 13.4 11.7  8.3 10.2 10.9 11.   9.5 14.5 14.1 16.1 14.3\n",
            " 11.7 13.4  9.6  8.7  8.4 12.8 10.5 17.1 18.4 15.4 10.8 11.8 14.9 12.6\n",
            " 14.1 13.  13.4 15.2 16.1 17.8 14.9 14.1 12.7 13.5 14.9 20.  16.4 17.7\n",
            " 19.5 20.2 21.4 19.9 19.  19.1 19.1 20.1 19.9 19.6 23.2 29.8 13.8 13.3\n",
            " 16.7 12.  14.6 21.4 23.  23.7 25.  21.8 20.6 21.2 19.1 20.6 15.2  7.\n",
            "  8.1 13.6 20.1 21.8 24.5 23.1 19.7 18.3 21.2 17.5 16.8 22.4 20.6 23.9\n",
            " 22.  11.9]\n"
          ]
        }
      ]
    },
    {
      "cell_type": "markdown",
      "id": "a8d59e35",
      "metadata": {
        "pycharm": {
          "name": "#%% md\n"
        },
        "id": "a8d59e35"
      },
      "source": [
        "### 4.  Convert in Pandas Dataframe and show as below <div style=\"text-align: right\"> [0.25 pts] </div>"
      ]
    },
    {
      "cell_type": "code",
      "source": [
        "# Converting into dataframe\n",
        "attributes = [\"CRIM\",\"ZN\",\"INDUS\", \"CHAS\", \"NOX\", \"RM\", \"AGE\", \"DIS\",\n",
        "\"RAD\" , \"TAX\", \"PTRATIO\" ,\"B\", \"LSTAT\"]#, \"MEDV\"]\n",
        "df = pd.DataFrame(X, columns=attributes)\n"
      ],
      "metadata": {
        "id": "I30EwaLhrkg4"
      },
      "id": "I30EwaLhrkg4",
      "execution_count": null,
      "outputs": []
    },
    {
      "cell_type": "code",
      "source": [
        "# Printing dataframe in expected format\n",
        "df"
      ],
      "metadata": {
        "colab": {
          "base_uri": "https://localhost:8080/",
          "height": 423
        },
        "id": "2UJmfrZAkPhi",
        "outputId": "9919a9d7-fe64-4a75-c500-e2acab42039d"
      },
      "id": "2UJmfrZAkPhi",
      "execution_count": null,
      "outputs": [
        {
          "output_type": "execute_result",
          "data": {
            "text/plain": [
              "        CRIM    ZN  INDUS  CHAS    NOX     RM   AGE     DIS  RAD    TAX  \\\n",
              "0    0.00632  18.0   2.31   0.0  0.538  6.575  65.2  4.0900  1.0  296.0   \n",
              "1    0.02731   0.0   7.07   0.0  0.469  6.421  78.9  4.9671  2.0  242.0   \n",
              "2    0.02729   0.0   7.07   0.0  0.469  7.185  61.1  4.9671  2.0  242.0   \n",
              "3    0.03237   0.0   2.18   0.0  0.458  6.998  45.8  6.0622  3.0  222.0   \n",
              "4    0.06905   0.0   2.18   0.0  0.458  7.147  54.2  6.0622  3.0  222.0   \n",
              "..       ...   ...    ...   ...    ...    ...   ...     ...  ...    ...   \n",
              "501  0.06263   0.0  11.93   0.0  0.573  6.593  69.1  2.4786  1.0  273.0   \n",
              "502  0.04527   0.0  11.93   0.0  0.573  6.120  76.7  2.2875  1.0  273.0   \n",
              "503  0.06076   0.0  11.93   0.0  0.573  6.976  91.0  2.1675  1.0  273.0   \n",
              "504  0.10959   0.0  11.93   0.0  0.573  6.794  89.3  2.3889  1.0  273.0   \n",
              "505  0.04741   0.0  11.93   0.0  0.573  6.030  80.8  2.5050  1.0  273.0   \n",
              "\n",
              "     PTRATIO       B  LSTAT  \n",
              "0       15.3  396.90   4.98  \n",
              "1       17.8  396.90   9.14  \n",
              "2       17.8  392.83   4.03  \n",
              "3       18.7  394.63   2.94  \n",
              "4       18.7  396.90   5.33  \n",
              "..       ...     ...    ...  \n",
              "501     21.0  391.99   9.67  \n",
              "502     21.0  396.90   9.08  \n",
              "503     21.0  396.90   5.64  \n",
              "504     21.0  393.45   6.48  \n",
              "505     21.0  396.90   7.88  \n",
              "\n",
              "[506 rows x 13 columns]"
            ],
            "text/html": [
              "\n",
              "  <div id=\"df-703ba1d7-6591-4db6-8186-da3afe7167be\" class=\"colab-df-container\">\n",
              "    <div>\n",
              "<style scoped>\n",
              "    .dataframe tbody tr th:only-of-type {\n",
              "        vertical-align: middle;\n",
              "    }\n",
              "\n",
              "    .dataframe tbody tr th {\n",
              "        vertical-align: top;\n",
              "    }\n",
              "\n",
              "    .dataframe thead th {\n",
              "        text-align: right;\n",
              "    }\n",
              "</style>\n",
              "<table border=\"1\" class=\"dataframe\">\n",
              "  <thead>\n",
              "    <tr style=\"text-align: right;\">\n",
              "      <th></th>\n",
              "      <th>CRIM</th>\n",
              "      <th>ZN</th>\n",
              "      <th>INDUS</th>\n",
              "      <th>CHAS</th>\n",
              "      <th>NOX</th>\n",
              "      <th>RM</th>\n",
              "      <th>AGE</th>\n",
              "      <th>DIS</th>\n",
              "      <th>RAD</th>\n",
              "      <th>TAX</th>\n",
              "      <th>PTRATIO</th>\n",
              "      <th>B</th>\n",
              "      <th>LSTAT</th>\n",
              "    </tr>\n",
              "  </thead>\n",
              "  <tbody>\n",
              "    <tr>\n",
              "      <th>0</th>\n",
              "      <td>0.00632</td>\n",
              "      <td>18.0</td>\n",
              "      <td>2.31</td>\n",
              "      <td>0.0</td>\n",
              "      <td>0.538</td>\n",
              "      <td>6.575</td>\n",
              "      <td>65.2</td>\n",
              "      <td>4.0900</td>\n",
              "      <td>1.0</td>\n",
              "      <td>296.0</td>\n",
              "      <td>15.3</td>\n",
              "      <td>396.90</td>\n",
              "      <td>4.98</td>\n",
              "    </tr>\n",
              "    <tr>\n",
              "      <th>1</th>\n",
              "      <td>0.02731</td>\n",
              "      <td>0.0</td>\n",
              "      <td>7.07</td>\n",
              "      <td>0.0</td>\n",
              "      <td>0.469</td>\n",
              "      <td>6.421</td>\n",
              "      <td>78.9</td>\n",
              "      <td>4.9671</td>\n",
              "      <td>2.0</td>\n",
              "      <td>242.0</td>\n",
              "      <td>17.8</td>\n",
              "      <td>396.90</td>\n",
              "      <td>9.14</td>\n",
              "    </tr>\n",
              "    <tr>\n",
              "      <th>2</th>\n",
              "      <td>0.02729</td>\n",
              "      <td>0.0</td>\n",
              "      <td>7.07</td>\n",
              "      <td>0.0</td>\n",
              "      <td>0.469</td>\n",
              "      <td>7.185</td>\n",
              "      <td>61.1</td>\n",
              "      <td>4.9671</td>\n",
              "      <td>2.0</td>\n",
              "      <td>242.0</td>\n",
              "      <td>17.8</td>\n",
              "      <td>392.83</td>\n",
              "      <td>4.03</td>\n",
              "    </tr>\n",
              "    <tr>\n",
              "      <th>3</th>\n",
              "      <td>0.03237</td>\n",
              "      <td>0.0</td>\n",
              "      <td>2.18</td>\n",
              "      <td>0.0</td>\n",
              "      <td>0.458</td>\n",
              "      <td>6.998</td>\n",
              "      <td>45.8</td>\n",
              "      <td>6.0622</td>\n",
              "      <td>3.0</td>\n",
              "      <td>222.0</td>\n",
              "      <td>18.7</td>\n",
              "      <td>394.63</td>\n",
              "      <td>2.94</td>\n",
              "    </tr>\n",
              "    <tr>\n",
              "      <th>4</th>\n",
              "      <td>0.06905</td>\n",
              "      <td>0.0</td>\n",
              "      <td>2.18</td>\n",
              "      <td>0.0</td>\n",
              "      <td>0.458</td>\n",
              "      <td>7.147</td>\n",
              "      <td>54.2</td>\n",
              "      <td>6.0622</td>\n",
              "      <td>3.0</td>\n",
              "      <td>222.0</td>\n",
              "      <td>18.7</td>\n",
              "      <td>396.90</td>\n",
              "      <td>5.33</td>\n",
              "    </tr>\n",
              "    <tr>\n",
              "      <th>...</th>\n",
              "      <td>...</td>\n",
              "      <td>...</td>\n",
              "      <td>...</td>\n",
              "      <td>...</td>\n",
              "      <td>...</td>\n",
              "      <td>...</td>\n",
              "      <td>...</td>\n",
              "      <td>...</td>\n",
              "      <td>...</td>\n",
              "      <td>...</td>\n",
              "      <td>...</td>\n",
              "      <td>...</td>\n",
              "      <td>...</td>\n",
              "    </tr>\n",
              "    <tr>\n",
              "      <th>501</th>\n",
              "      <td>0.06263</td>\n",
              "      <td>0.0</td>\n",
              "      <td>11.93</td>\n",
              "      <td>0.0</td>\n",
              "      <td>0.573</td>\n",
              "      <td>6.593</td>\n",
              "      <td>69.1</td>\n",
              "      <td>2.4786</td>\n",
              "      <td>1.0</td>\n",
              "      <td>273.0</td>\n",
              "      <td>21.0</td>\n",
              "      <td>391.99</td>\n",
              "      <td>9.67</td>\n",
              "    </tr>\n",
              "    <tr>\n",
              "      <th>502</th>\n",
              "      <td>0.04527</td>\n",
              "      <td>0.0</td>\n",
              "      <td>11.93</td>\n",
              "      <td>0.0</td>\n",
              "      <td>0.573</td>\n",
              "      <td>6.120</td>\n",
              "      <td>76.7</td>\n",
              "      <td>2.2875</td>\n",
              "      <td>1.0</td>\n",
              "      <td>273.0</td>\n",
              "      <td>21.0</td>\n",
              "      <td>396.90</td>\n",
              "      <td>9.08</td>\n",
              "    </tr>\n",
              "    <tr>\n",
              "      <th>503</th>\n",
              "      <td>0.06076</td>\n",
              "      <td>0.0</td>\n",
              "      <td>11.93</td>\n",
              "      <td>0.0</td>\n",
              "      <td>0.573</td>\n",
              "      <td>6.976</td>\n",
              "      <td>91.0</td>\n",
              "      <td>2.1675</td>\n",
              "      <td>1.0</td>\n",
              "      <td>273.0</td>\n",
              "      <td>21.0</td>\n",
              "      <td>396.90</td>\n",
              "      <td>5.64</td>\n",
              "    </tr>\n",
              "    <tr>\n",
              "      <th>504</th>\n",
              "      <td>0.10959</td>\n",
              "      <td>0.0</td>\n",
              "      <td>11.93</td>\n",
              "      <td>0.0</td>\n",
              "      <td>0.573</td>\n",
              "      <td>6.794</td>\n",
              "      <td>89.3</td>\n",
              "      <td>2.3889</td>\n",
              "      <td>1.0</td>\n",
              "      <td>273.0</td>\n",
              "      <td>21.0</td>\n",
              "      <td>393.45</td>\n",
              "      <td>6.48</td>\n",
              "    </tr>\n",
              "    <tr>\n",
              "      <th>505</th>\n",
              "      <td>0.04741</td>\n",
              "      <td>0.0</td>\n",
              "      <td>11.93</td>\n",
              "      <td>0.0</td>\n",
              "      <td>0.573</td>\n",
              "      <td>6.030</td>\n",
              "      <td>80.8</td>\n",
              "      <td>2.5050</td>\n",
              "      <td>1.0</td>\n",
              "      <td>273.0</td>\n",
              "      <td>21.0</td>\n",
              "      <td>396.90</td>\n",
              "      <td>7.88</td>\n",
              "    </tr>\n",
              "  </tbody>\n",
              "</table>\n",
              "<p>506 rows × 13 columns</p>\n",
              "</div>\n",
              "    <div class=\"colab-df-buttons\">\n",
              "\n",
              "  <div class=\"colab-df-container\">\n",
              "    <button class=\"colab-df-convert\" onclick=\"convertToInteractive('df-703ba1d7-6591-4db6-8186-da3afe7167be')\"\n",
              "            title=\"Convert this dataframe to an interactive table.\"\n",
              "            style=\"display:none;\">\n",
              "\n",
              "  <svg xmlns=\"http://www.w3.org/2000/svg\" height=\"24px\" viewBox=\"0 -960 960 960\">\n",
              "    <path d=\"M120-120v-720h720v720H120Zm60-500h600v-160H180v160Zm220 220h160v-160H400v160Zm0 220h160v-160H400v160ZM180-400h160v-160H180v160Zm440 0h160v-160H620v160ZM180-180h160v-160H180v160Zm440 0h160v-160H620v160Z\"/>\n",
              "  </svg>\n",
              "    </button>\n",
              "\n",
              "  <style>\n",
              "    .colab-df-container {\n",
              "      display:flex;\n",
              "      gap: 12px;\n",
              "    }\n",
              "\n",
              "    .colab-df-convert {\n",
              "      background-color: #E8F0FE;\n",
              "      border: none;\n",
              "      border-radius: 50%;\n",
              "      cursor: pointer;\n",
              "      display: none;\n",
              "      fill: #1967D2;\n",
              "      height: 32px;\n",
              "      padding: 0 0 0 0;\n",
              "      width: 32px;\n",
              "    }\n",
              "\n",
              "    .colab-df-convert:hover {\n",
              "      background-color: #E2EBFA;\n",
              "      box-shadow: 0px 1px 2px rgba(60, 64, 67, 0.3), 0px 1px 3px 1px rgba(60, 64, 67, 0.15);\n",
              "      fill: #174EA6;\n",
              "    }\n",
              "\n",
              "    .colab-df-buttons div {\n",
              "      margin-bottom: 4px;\n",
              "    }\n",
              "\n",
              "    [theme=dark] .colab-df-convert {\n",
              "      background-color: #3B4455;\n",
              "      fill: #D2E3FC;\n",
              "    }\n",
              "\n",
              "    [theme=dark] .colab-df-convert:hover {\n",
              "      background-color: #434B5C;\n",
              "      box-shadow: 0px 1px 3px 1px rgba(0, 0, 0, 0.15);\n",
              "      filter: drop-shadow(0px 1px 2px rgba(0, 0, 0, 0.3));\n",
              "      fill: #FFFFFF;\n",
              "    }\n",
              "  </style>\n",
              "\n",
              "    <script>\n",
              "      const buttonEl =\n",
              "        document.querySelector('#df-703ba1d7-6591-4db6-8186-da3afe7167be button.colab-df-convert');\n",
              "      buttonEl.style.display =\n",
              "        google.colab.kernel.accessAllowed ? 'block' : 'none';\n",
              "\n",
              "      async function convertToInteractive(key) {\n",
              "        const element = document.querySelector('#df-703ba1d7-6591-4db6-8186-da3afe7167be');\n",
              "        const dataTable =\n",
              "          await google.colab.kernel.invokeFunction('convertToInteractive',\n",
              "                                                    [key], {});\n",
              "        if (!dataTable) return;\n",
              "\n",
              "        const docLinkHtml = 'Like what you see? Visit the ' +\n",
              "          '<a target=\"_blank\" href=https://colab.research.google.com/notebooks/data_table.ipynb>data table notebook</a>'\n",
              "          + ' to learn more about interactive tables.';\n",
              "        element.innerHTML = '';\n",
              "        dataTable['output_type'] = 'display_data';\n",
              "        await google.colab.output.renderOutput(dataTable, element);\n",
              "        const docLink = document.createElement('div');\n",
              "        docLink.innerHTML = docLinkHtml;\n",
              "        element.appendChild(docLink);\n",
              "      }\n",
              "    </script>\n",
              "  </div>\n",
              "\n",
              "\n",
              "<div id=\"df-62b27ab4-4ed1-480d-b3c8-9bef6b6ff716\">\n",
              "  <button class=\"colab-df-quickchart\" onclick=\"quickchart('df-62b27ab4-4ed1-480d-b3c8-9bef6b6ff716')\"\n",
              "            title=\"Suggest charts.\"\n",
              "            style=\"display:none;\">\n",
              "\n",
              "<svg xmlns=\"http://www.w3.org/2000/svg\" height=\"24px\"viewBox=\"0 0 24 24\"\n",
              "     width=\"24px\">\n",
              "    <g>\n",
              "        <path d=\"M19 3H5c-1.1 0-2 .9-2 2v14c0 1.1.9 2 2 2h14c1.1 0 2-.9 2-2V5c0-1.1-.9-2-2-2zM9 17H7v-7h2v7zm4 0h-2V7h2v10zm4 0h-2v-4h2v4z\"/>\n",
              "    </g>\n",
              "</svg>\n",
              "  </button>\n",
              "\n",
              "<style>\n",
              "  .colab-df-quickchart {\n",
              "      --bg-color: #E8F0FE;\n",
              "      --fill-color: #1967D2;\n",
              "      --hover-bg-color: #E2EBFA;\n",
              "      --hover-fill-color: #174EA6;\n",
              "      --disabled-fill-color: #AAA;\n",
              "      --disabled-bg-color: #DDD;\n",
              "  }\n",
              "\n",
              "  [theme=dark] .colab-df-quickchart {\n",
              "      --bg-color: #3B4455;\n",
              "      --fill-color: #D2E3FC;\n",
              "      --hover-bg-color: #434B5C;\n",
              "      --hover-fill-color: #FFFFFF;\n",
              "      --disabled-bg-color: #3B4455;\n",
              "      --disabled-fill-color: #666;\n",
              "  }\n",
              "\n",
              "  .colab-df-quickchart {\n",
              "    background-color: var(--bg-color);\n",
              "    border: none;\n",
              "    border-radius: 50%;\n",
              "    cursor: pointer;\n",
              "    display: none;\n",
              "    fill: var(--fill-color);\n",
              "    height: 32px;\n",
              "    padding: 0;\n",
              "    width: 32px;\n",
              "  }\n",
              "\n",
              "  .colab-df-quickchart:hover {\n",
              "    background-color: var(--hover-bg-color);\n",
              "    box-shadow: 0 1px 2px rgba(60, 64, 67, 0.3), 0 1px 3px 1px rgba(60, 64, 67, 0.15);\n",
              "    fill: var(--button-hover-fill-color);\n",
              "  }\n",
              "\n",
              "  .colab-df-quickchart-complete:disabled,\n",
              "  .colab-df-quickchart-complete:disabled:hover {\n",
              "    background-color: var(--disabled-bg-color);\n",
              "    fill: var(--disabled-fill-color);\n",
              "    box-shadow: none;\n",
              "  }\n",
              "\n",
              "  .colab-df-spinner {\n",
              "    border: 2px solid var(--fill-color);\n",
              "    border-color: transparent;\n",
              "    border-bottom-color: var(--fill-color);\n",
              "    animation:\n",
              "      spin 1s steps(1) infinite;\n",
              "  }\n",
              "\n",
              "  @keyframes spin {\n",
              "    0% {\n",
              "      border-color: transparent;\n",
              "      border-bottom-color: var(--fill-color);\n",
              "      border-left-color: var(--fill-color);\n",
              "    }\n",
              "    20% {\n",
              "      border-color: transparent;\n",
              "      border-left-color: var(--fill-color);\n",
              "      border-top-color: var(--fill-color);\n",
              "    }\n",
              "    30% {\n",
              "      border-color: transparent;\n",
              "      border-left-color: var(--fill-color);\n",
              "      border-top-color: var(--fill-color);\n",
              "      border-right-color: var(--fill-color);\n",
              "    }\n",
              "    40% {\n",
              "      border-color: transparent;\n",
              "      border-right-color: var(--fill-color);\n",
              "      border-top-color: var(--fill-color);\n",
              "    }\n",
              "    60% {\n",
              "      border-color: transparent;\n",
              "      border-right-color: var(--fill-color);\n",
              "    }\n",
              "    80% {\n",
              "      border-color: transparent;\n",
              "      border-right-color: var(--fill-color);\n",
              "      border-bottom-color: var(--fill-color);\n",
              "    }\n",
              "    90% {\n",
              "      border-color: transparent;\n",
              "      border-bottom-color: var(--fill-color);\n",
              "    }\n",
              "  }\n",
              "</style>\n",
              "\n",
              "  <script>\n",
              "    async function quickchart(key) {\n",
              "      const quickchartButtonEl =\n",
              "        document.querySelector('#' + key + ' button');\n",
              "      quickchartButtonEl.disabled = true;  // To prevent multiple clicks.\n",
              "      quickchartButtonEl.classList.add('colab-df-spinner');\n",
              "      try {\n",
              "        const charts = await google.colab.kernel.invokeFunction(\n",
              "            'suggestCharts', [key], {});\n",
              "      } catch (error) {\n",
              "        console.error('Error during call to suggestCharts:', error);\n",
              "      }\n",
              "      quickchartButtonEl.classList.remove('colab-df-spinner');\n",
              "      quickchartButtonEl.classList.add('colab-df-quickchart-complete');\n",
              "    }\n",
              "    (() => {\n",
              "      let quickchartButtonEl =\n",
              "        document.querySelector('#df-62b27ab4-4ed1-480d-b3c8-9bef6b6ff716 button');\n",
              "      quickchartButtonEl.style.display =\n",
              "        google.colab.kernel.accessAllowed ? 'block' : 'none';\n",
              "    })();\n",
              "  </script>\n",
              "</div>\n",
              "    </div>\n",
              "  </div>\n"
            ]
          },
          "metadata": {},
          "execution_count": 164
        }
      ]
    },
    {
      "cell_type": "code",
      "source": [
        "df['PRICE'] = y\n",
        "# Copying dataframe to another dataframe to use later\n",
        "df_2 = df"
      ],
      "metadata": {
        "id": "DxYalSvzl0vw"
      },
      "id": "DxYalSvzl0vw",
      "execution_count": null,
      "outputs": []
    },
    {
      "cell_type": "markdown",
      "id": "a9ff9fce",
      "metadata": {
        "pycharm": {
          "name": "#%% md\n"
        },
        "id": "a9ff9fce"
      },
      "source": [
        "### 5.  Split the dataset into training and testing sets <div style=\"text-align: right\"> [0.5 pts] </div>"
      ]
    },
    {
      "cell_type": "markdown",
      "id": "a3d47300",
      "metadata": {
        "pycharm": {
          "name": "#%% md\n"
        },
        "id": "a3d47300"
      },
      "source": [
        "#### Note : test size --> 20% and random state ---> 111"
      ]
    },
    {
      "cell_type": "code",
      "execution_count": null,
      "id": "79523fd4",
      "metadata": {
        "pycharm": {
          "name": "#%%\n"
        },
        "id": "79523fd4"
      },
      "outputs": [],
      "source": [
        "# Splitting the dataset into training and testing with test set as 20% and random state as 111 as specified\n",
        "X_train, X_test, y_train, y_test = train_test_split(X, y, test_size=0.20, random_state=111)"
      ]
    },
    {
      "cell_type": "markdown",
      "id": "e1ee8139",
      "metadata": {
        "pycharm": {
          "name": "#%% md\n"
        },
        "id": "e1ee8139"
      },
      "source": [
        "### 6. Explain the differences between Linear /  Ridge regression <div style=\"text-align: right\"> [1 pts] </div>"
      ]
    },
    {
      "cell_type": "markdown",
      "source": [
        "Linear Regression is a commonly used technique for predictive modeling.\n",
        "It helps modelling the relationship between a dependent and independent variables where the goal is to fit the linear equation that can make predictions based on the given input features.\n",
        "\n",
        "Ridge Regression is an extension of the linear regression model. It adds a regularization term to the linear regression loss function, and helps reduce the complexity of the model."
      ],
      "metadata": {
        "id": "lIcRuGd52ye3"
      },
      "id": "lIcRuGd52ye3"
    },
    {
      "cell_type": "markdown",
      "id": "97fb3d73",
      "metadata": {
        "pycharm": {
          "name": "#%% md\n"
        },
        "id": "97fb3d73"
      },
      "source": [
        "#### 6.1. Magnitude of Coefficients:"
      ]
    },
    {
      "cell_type": "markdown",
      "source": [
        "In linear regression, magnitude of coefficients is calculated using the least square methods. The features with higher magnitude can have a stronger impact on the target variable and can lead to overfitting.\n",
        "\n",
        "In case of Ridge regression, it introduces L2 regularization which adds a penalty term to the loss function.\n"
      ],
      "metadata": {
        "id": "ZomjwER0wTgt"
      },
      "id": "ZomjwER0wTgt"
    },
    {
      "cell_type": "code",
      "source": [
        "# Building the models\n",
        "ln = LinearRegression()\n",
        "rd = Ridge(alpha=1.0)\n",
        "ln.fit(X, y)\n",
        "rd.fit(X, y)\n",
        "linear = (ln.coef_)\n",
        "ridge = (rd.coef_)\n",
        "\n",
        "# Extracting the linear and ridge coefficients\n",
        "linear, ridge"
      ],
      "metadata": {
        "colab": {
          "base_uri": "https://localhost:8080/"
        },
        "id": "jC1twZzBjVth",
        "outputId": "884632a2-2ddc-4e3a-ddcd-f1b8bf295ca6"
      },
      "id": "jC1twZzBjVth",
      "execution_count": null,
      "outputs": [
        {
          "output_type": "execute_result",
          "data": {
            "text/plain": [
              "(array([-1.08011358e-01,  4.64204584e-02,  2.05586264e-02,  2.68673382e+00,\n",
              "        -1.77666112e+01,  3.80986521e+00,  6.92224640e-04, -1.47556685e+00,\n",
              "         3.06049479e-01, -1.23345939e-02, -9.52747232e-01,  9.31168327e-03,\n",
              "        -5.24758378e-01]),\n",
              " array([-1.04595278e-01,  4.74432243e-02, -8.80467889e-03,  2.55239322e+00,\n",
              "        -1.07770146e+01,  3.85400020e+00, -5.41453810e-03, -1.37265353e+00,\n",
              "         2.90141589e-01, -1.29116463e-02, -8.76074394e-01,  9.67327945e-03,\n",
              "        -5.33343225e-01]))"
            ]
          },
          "metadata": {},
          "execution_count": 167
        }
      ]
    },
    {
      "cell_type": "markdown",
      "id": "61dccd86",
      "metadata": {
        "pycharm": {
          "name": "#%% md\n"
        },
        "id": "61dccd86"
      },
      "source": [
        "#### 6.2. Fitting (Over/Under):"
      ]
    },
    {
      "cell_type": "markdown",
      "source": [
        "Linear regression is more prone to over fitting in case there is multicollinearity in the data.\n",
        "\n",
        "\n",
        "Ridge regression tackles the issue of over fitting by adding the regularization term to the cost function. This helps penalize the extreme coefficients and reduce over fitting."
      ],
      "metadata": {
        "id": "t6azLFhNxK96"
      },
      "id": "t6azLFhNxK96"
    },
    {
      "cell_type": "markdown",
      "id": "717ae42b",
      "metadata": {
        "pycharm": {
          "name": "#%% md\n"
        },
        "id": "717ae42b"
      },
      "source": [
        "#### 6.3. Feature Importance:"
      ]
    },
    {
      "cell_type": "markdown",
      "source": [
        "Generally the features which have relatively larger coefficient magnitudes have a stronger influence on the dependent variable. Below is the graph with some of the important features that exhibit larger coefficient magnitudes."
      ],
      "metadata": {
        "id": "pJH_VQU31N9c"
      },
      "id": "pJH_VQU31N9c"
    },
    {
      "cell_type": "code",
      "source": [
        "# Building a dataframe with features and coefficients that were calculated above\n",
        "features = pd.DataFrame({'Feature': attributes, 'Linear': linear, 'Ridge': ridge})\n",
        "\n",
        "# Plotting the graph for feature coefficients\n",
        "fig, axis = plt.subplots(figsize=(10, 6))\n",
        "bar_width = 0.2\n",
        "index = np.arange(len(features))\n",
        "\n",
        "linear_bars = axis.barh(index - bar_width/2, features['Linear'], bar_width, label='Linear')\n",
        "ridge_bars = axis.barh(index + bar_width/2, features['Ridge'], bar_width, label='Ridge')\n",
        "\n",
        "axis.set_title('Linear and Ridge Regression Feature')\n",
        "axis.set_xlabel('Coefficient Value')\n",
        "axis.set_ylabel('Features')\n",
        "\n",
        "# Set the y-axis labels using plt.yticks\n",
        "plt.yticks(index, features['Feature'])\n",
        "\n",
        "axis.legend()\n",
        "plt.show()"
      ],
      "metadata": {
        "colab": {
          "base_uri": "https://localhost:8080/",
          "height": 564
        },
        "id": "lx5b8Uu9jYWf",
        "outputId": "7ea7d4c0-6c60-4e92-ff3e-cfdc02fb7270"
      },
      "id": "lx5b8Uu9jYWf",
      "execution_count": null,
      "outputs": [
        {
          "output_type": "display_data",
          "data": {
            "text/plain": [
              "<Figure size 1000x600 with 1 Axes>"
            ],
            "image/png": "[encoded data removed]"
          },
          "metadata": {}
        }
      ]
    },
    {
      "cell_type": "markdown",
      "id": "0ba38228",
      "metadata": {
        "pycharm": {
          "name": "#%% md\n"
        },
        "id": "0ba38228"
      },
      "source": [
        "#### 6.4. Model Complexity:"
      ]
    },
    {
      "cell_type": "markdown",
      "source": [
        "Both linear and ridge models have 13 coefficients. However, the Ridge model introduces an additional layer of complexity through the regularization parameter (alpha). This parameter allows Ridge regression model to control the magnitude of the coefficients, helping prevent overfitting and making the model more robust when dealing with multicollinearity in the data."
      ],
      "metadata": {
        "id": "WCOLFms01gDu"
      },
      "id": "WCOLFms01gDu"
    },
    {
      "cell_type": "markdown",
      "id": "e7f9e210",
      "metadata": {
        "pycharm": {
          "name": "#%% md\n"
        },
        "id": "e7f9e210"
      },
      "source": [
        "### 7. Implement Linear Regression - sklearn <div style=\"text-align: right\"> [1 pts] </div>"
      ]
    },
    {
      "cell_type": "code",
      "execution_count": null,
      "id": "24fd48a6",
      "metadata": {
        "pycharm": {
          "name": "#%%\n"
        },
        "id": "24fd48a6",
        "colab": {
          "base_uri": "https://localhost:8080/"
        },
        "outputId": "1bf73aaf-7f73-4c7e-aa2d-374b2f1691bf"
      },
      "outputs": [
        {
          "output_type": "stream",
          "name": "stdout",
          "text": [
            "[29.5005545  29.29397365 31.87810007 20.71306785 42.30839914 26.94755908\n",
            " 35.22605324 15.59816095 24.69453552 14.17692785 27.62292606 43.46452846\n",
            " 23.3127009  31.12096005 20.19012208 24.43851472 24.48734013 22.10378257\n",
            " 13.70297321 17.83494869 14.04195096 27.26997809 22.84584481 25.42566519\n",
            "  8.30084316 19.1167088  36.74849539 24.63459996 20.96331149  1.40319753\n",
            " 32.61773855 10.087989    8.91476122 29.62013093 37.85693481 24.4967708\n",
            "  8.36882889 40.51104853 24.28864983 17.07989649 24.98468868 19.46693134\n",
            " 14.00882221 22.92965305 21.1172161  34.01053609 30.61543162 13.86868865\n",
            " 31.94480173 20.27358781 23.47659771 27.50776324 15.80259191 22.36273204\n",
            " 24.55667873 22.2452275  19.49479712 22.67556211 16.94687684 21.67095588\n",
            " 27.04548921 22.62960797 26.09473356 20.68208343 23.45286899 25.0690331\n",
            " 32.42362195 35.93180201 27.95066344 22.76907815 25.12068536 20.07277438\n",
            " 13.3972728  16.51190483 36.37984964 22.65731718 27.7591453  29.45140375\n",
            " 22.35760255 32.37752341 12.03792256 13.25421625  9.99830495 35.36976482\n",
            " 15.08147768 20.57423148 36.92040215 31.94740042 19.1353931  17.48706065\n",
            " 18.14907982 17.86688034 23.78849632 11.95097321 19.32187598 15.99351819\n",
            " 19.78674583 22.53727296 15.70017581 16.10942191 22.43320283 29.00624895]\n"
          ]
        }
      ],
      "source": [
        "# Building linear regression model using the 'LinearRegression' sklearn model library\n",
        "ln = LinearRegression()\n",
        "ln.fit(X_train, y_train)\n",
        "y_pred = ln.predict(X_test)\n",
        "print(y_pred)"
      ]
    },
    {
      "cell_type": "markdown",
      "id": "df8e9030",
      "metadata": {
        "pycharm": {
          "name": "#%% md\n"
        },
        "id": "df8e9030"
      },
      "source": [
        "### 8. Implement Ridge Regression with lambda = 1.0 - sklearn <div style=\"text-align: right\"> [1 pts] </div>"
      ]
    },
    {
      "cell_type": "code",
      "execution_count": null,
      "id": "8b149868",
      "metadata": {
        "pycharm": {
          "name": "#%%\n"
        },
        "id": "8b149868",
        "colab": {
          "base_uri": "https://localhost:8080/"
        },
        "outputId": "cef10fe9-b6f5-4a50-aae5-a2dfe131c748"
      },
      "outputs": [
        {
          "output_type": "stream",
          "name": "stdout",
          "text": [
            "[29.15930804 29.03969403 31.95563071 20.33744046 41.9709915  27.10958635\n",
            " 34.93704307 15.80816905 24.34560014 14.5429285  27.78732871 43.14981878\n",
            " 22.9967266  30.85139418 20.31090831 24.55172095 24.77503377 21.80833605\n",
            " 13.80270924 17.54308412 13.31806029 26.95613346 22.48151962 25.94730989\n",
            "  7.99060408 18.85738849 36.69584105 24.89567767 21.68631908  0.40051235\n",
            " 32.52259692 10.38327714 10.22449463 29.30327701 37.63973429 24.40309018\n",
            "  8.38490175 40.64035582 24.4372403  17.25084911 24.80161254 18.73245102\n",
            " 14.30039027 22.95049032 21.26559587 34.39431991 30.478319   13.8427807\n",
            " 31.53478416 19.87481648 23.4978292  27.41002137 15.9674534  22.93610784\n",
            " 24.58428243 22.14397739 20.02443006 22.4038759  17.34714426 21.74199122\n",
            " 26.34968028 23.23210505 26.42590084 20.78442085 23.27115528 25.60369054\n",
            " 32.2086246  36.2817755  28.09515123 23.11282137 25.35712238 21.44059387\n",
            " 13.45469711 16.75725086 36.08743419 22.33172343 27.85588519 29.28588004\n",
            " 23.16101547 32.2603491  13.2603421  13.46084233 10.07200108 35.77218542\n",
            " 16.48321832 20.37339376 36.63656438 31.78349352 19.42113177 17.95513372\n",
            " 18.69687555 17.78250505 23.71426137 11.25039303 19.82519515 15.38515817\n",
            " 20.29727022 23.45206937 17.00898519 15.44303167 22.51194523 28.61298675]\n"
          ]
        }
      ],
      "source": [
        "# Building Ridge regression model using the 'Ridge' sklearn model library\n",
        "rd = Ridge(alpha=1.0)\n",
        "rd.fit(X_train, y_train)\n",
        "y_pred_rd = rd.predict(X_test)\n",
        "print(y_pred_rd)"
      ]
    },
    {
      "cell_type": "markdown",
      "id": "017677e5",
      "metadata": {
        "pycharm": {
          "name": "#%% md\n"
        },
        "id": "017677e5"
      },
      "source": [
        "### 9. Evaluate the models (M.S.E) <div style=\"text-align: right\"> [0.5 pts] </div>"
      ]
    },
    {
      "cell_type": "code",
      "source": [
        "# Calculating the Mean Squared Error for Linear and Ridge regression\n",
        "print(\"Linear Regression Mean Squared Error: \", mean_squared_error(y_test, y_pred))\n",
        "print(\"Ridge Regression Mean Squared Error: \", mean_squared_error(y_test, y_pred_rd))"
      ],
      "metadata": {
        "colab": {
          "base_uri": "https://localhost:8080/"
        },
        "id": "tPMRt36PNC-d",
        "outputId": "338f2ec2-66df-4687-b2c1-d74bf57b0698"
      },
      "id": "tPMRt36PNC-d",
      "execution_count": null,
      "outputs": [
        {
          "output_type": "stream",
          "name": "stdout",
          "text": [
            "Linear Regression Mean Squared Error:  23.06642842406862\n",
            "Ridge Regression Mean Squared Error:  23.63737071708967\n"
          ]
        }
      ]
    },
    {
      "cell_type": "markdown",
      "id": "a97a7b6c",
      "metadata": {
        "pycharm": {
          "name": "#%% md\n"
        },
        "id": "a97a7b6c"
      },
      "source": [
        "### 10. Plot the coefficients of Linear and Ridge Regression models <div style=\"text-align: right\"> [0.5 pts] </div>"
      ]
    },
    {
      "cell_type": "code",
      "source": [
        "# Plotting the coefficients of Linear and Ridge Regression models\n",
        "\n",
        "# Access the coefficients weights of the features that were learned by the Linear and Ridge regression models\n",
        "linear = (ln.coef_)\n",
        "ridge = (rd.coef_)\n",
        "\n",
        "x_positions = np.arange(len(attributes))\n",
        "x_labels = attributes\n",
        "\n",
        "# Plot a scatter plot\n",
        "plt.scatter(x_positions, linear, marker='s', label='Linear Regression')\n",
        "plt.scatter(x_positions , ridge, marker='^', label='Ridge Regression (alpha=1.0)')\n",
        "\n",
        "# Plot a line through y = 0\n",
        "plt.axhline(y=0, color='red', linestyle='--', linewidth=1)\n",
        "\n",
        "# Assign X labels and rotate by 45 degrees for better readability\n",
        "plt.xticks(x_positions, x_labels)\n",
        "plt.xticks(rotation=45)\n",
        "\n",
        "# Add Labels\n",
        "plt.xlabel(\"Coefficient Columns\")\n",
        "plt.ylabel(\"Coefficient Magnitude\")\n",
        "\n",
        "# Add Title\n",
        "plt.title(\"Linear vs Ridge Regression Coefficients\")\n",
        "plt.legend()\n",
        "plt.show()"
      ],
      "metadata": {
        "colab": {
          "base_uri": "https://localhost:8080/",
          "height": 508
        },
        "id": "5ptFbjB2OTBk",
        "outputId": "166c22b6-afe2-45a8-bc71-33bc29d000dd"
      },
      "id": "5ptFbjB2OTBk",
      "execution_count": null,
      "outputs": [
        {
          "output_type": "display_data",
          "data": {
            "text/plain": [
              "<Figure size 640x480 with 1 Axes>"
            ],
            "image/png": "[encoded data removed]"
          },
          "metadata": {}
        }
      ]
    },
    {
      "cell_type": "markdown",
      "id": "f59dad5d",
      "metadata": {
        "pycharm": {
          "name": "#%% md\n"
        },
        "id": "f59dad5d"
      },
      "source": [
        "### 11. What are the 'N' most important features in our data according to your graph? <div style=\"text-align: right\"> [0.25 pts] </div>"
      ]
    },
    {
      "cell_type": "markdown",
      "source": [
        "The 'N' most important features are : 'CHAS', 'NOX', 'RM', 'DIS', 'PTRATIO', 'LSTAT'."
      ],
      "metadata": {
        "id": "PnDMtFB7igbF"
      },
      "id": "PnDMtFB7igbF"
    },
    {
      "cell_type": "markdown",
      "id": "95793478",
      "metadata": {
        "pycharm": {
          "name": "#%% md\n"
        },
        "id": "95793478"
      },
      "source": [
        "### 12. Remove All other features and keep your selected 'N' features <div style=\"text-align: right\"> [0.25 pts] </div>"
      ]
    },
    {
      "cell_type": "code",
      "source": [
        "# Dropping other features and only keeping 'N' features\n",
        "columns_to_drop = [\"CRIM\", \"ZN\", \"INDUS\", \"AGE\", \"RAD\", \"TAX\", \"B\"]\n",
        "df_2 = df_2.drop(columns_to_drop, axis=1)"
      ],
      "metadata": {
        "id": "DKtytYoOte4H"
      },
      "id": "DKtytYoOte4H",
      "execution_count": null,
      "outputs": []
    },
    {
      "cell_type": "code",
      "source": [
        "# Printing the new dataframe\n",
        "df_2.head()"
      ],
      "metadata": {
        "colab": {
          "base_uri": "https://localhost:8080/",
          "height": 206
        },
        "id": "_gcYgBdKtlM2",
        "outputId": "a60c77c7-010d-420a-aece-f954e278c2d7"
      },
      "id": "_gcYgBdKtlM2",
      "execution_count": null,
      "outputs": [
        {
          "output_type": "execute_result",
          "data": {
            "text/plain": [
              "   CHAS    NOX     RM     DIS  PTRATIO  LSTAT  PRICE\n",
              "0   0.0  0.538  6.575  4.0900     15.3   4.98   24.0\n",
              "1   0.0  0.469  6.421  4.9671     17.8   9.14   21.6\n",
              "2   0.0  0.469  7.185  4.9671     17.8   4.03   34.7\n",
              "3   0.0  0.458  6.998  6.0622     18.7   2.94   33.4\n",
              "4   0.0  0.458  7.147  6.0622     18.7   5.33   36.2"
            ],
            "text/html": [
              "\n",
              "  <div id=\"df-9f5f445f-a0db-4e5b-83da-8ffe2cd40b26\" class=\"colab-df-container\">\n",
              "    <div>\n",
              "<style scoped>\n",
              "    .dataframe tbody tr th:only-of-type {\n",
              "        vertical-align: middle;\n",
              "    }\n",
              "\n",
              "    .dataframe tbody tr th {\n",
              "        vertical-align: top;\n",
              "    }\n",
              "\n",
              "    .dataframe thead th {\n",
              "        text-align: right;\n",
              "    }\n",
              "</style>\n",
              "<table border=\"1\" class=\"dataframe\">\n",
              "  <thead>\n",
              "    <tr style=\"text-align: right;\">\n",
              "      <th></th>\n",
              "      <th>CHAS</th>\n",
              "      <th>NOX</th>\n",
              "      <th>RM</th>\n",
              "      <th>DIS</th>\n",
              "      <th>PTRATIO</th>\n",
              "      <th>LSTAT</th>\n",
              "      <th>PRICE</th>\n",
              "    </tr>\n",
              "  </thead>\n",
              "  <tbody>\n",
              "    <tr>\n",
              "      <th>0</th>\n",
              "      <td>0.0</td>\n",
              "      <td>0.538</td>\n",
              "      <td>6.575</td>\n",
              "      <td>4.0900</td>\n",
              "      <td>15.3</td>\n",
              "      <td>4.98</td>\n",
              "      <td>24.0</td>\n",
              "    </tr>\n",
              "    <tr>\n",
              "      <th>1</th>\n",
              "      <td>0.0</td>\n",
              "      <td>0.469</td>\n",
              "      <td>6.421</td>\n",
              "      <td>4.9671</td>\n",
              "      <td>17.8</td>\n",
              "      <td>9.14</td>\n",
              "      <td>21.6</td>\n",
              "    </tr>\n",
              "    <tr>\n",
              "      <th>2</th>\n",
              "      <td>0.0</td>\n",
              "      <td>0.469</td>\n",
              "      <td>7.185</td>\n",
              "      <td>4.9671</td>\n",
              "      <td>17.8</td>\n",
              "      <td>4.03</td>\n",
              "      <td>34.7</td>\n",
              "    </tr>\n",
              "    <tr>\n",
              "      <th>3</th>\n",
              "      <td>0.0</td>\n",
              "      <td>0.458</td>\n",
              "      <td>6.998</td>\n",
              "      <td>6.0622</td>\n",
              "      <td>18.7</td>\n",
              "      <td>2.94</td>\n",
              "      <td>33.4</td>\n",
              "    </tr>\n",
              "    <tr>\n",
              "      <th>4</th>\n",
              "      <td>0.0</td>\n",
              "      <td>0.458</td>\n",
              "      <td>7.147</td>\n",
              "      <td>6.0622</td>\n",
              "      <td>18.7</td>\n",
              "      <td>5.33</td>\n",
              "      <td>36.2</td>\n",
              "    </tr>\n",
              "  </tbody>\n",
              "</table>\n",
              "</div>\n",
              "    <div class=\"colab-df-buttons\">\n",
              "\n",
              "  <div class=\"colab-df-container\">\n",
              "    <button class=\"colab-df-convert\" onclick=\"convertToInteractive('df-9f5f445f-a0db-4e5b-83da-8ffe2cd40b26')\"\n",
              "            title=\"Convert this dataframe to an interactive table.\"\n",
              "            style=\"display:none;\">\n",
              "\n",
              "  <svg xmlns=\"http://www.w3.org/2000/svg\" height=\"24px\" viewBox=\"0 -960 960 960\">\n",
              "    <path d=\"M120-120v-720h720v720H120Zm60-500h600v-160H180v160Zm220 220h160v-160H400v160Zm0 220h160v-160H400v160ZM180-400h160v-160H180v160Zm440 0h160v-160H620v160ZM180-180h160v-160H180v160Zm440 0h160v-160H620v160Z\"/>\n",
              "  </svg>\n",
              "    </button>\n",
              "\n",
              "  <style>\n",
              "    .colab-df-container {\n",
              "      display:flex;\n",
              "      gap: 12px;\n",
              "    }\n",
              "\n",
              "    .colab-df-convert {\n",
              "      background-color: #E8F0FE;\n",
              "      border: none;\n",
              "      border-radius: 50%;\n",
              "      cursor: pointer;\n",
              "      display: none;\n",
              "      fill: #1967D2;\n",
              "      height: 32px;\n",
              "      padding: 0 0 0 0;\n",
              "      width: 32px;\n",
              "    }\n",
              "\n",
              "    .colab-df-convert:hover {\n",
              "      background-color: #E2EBFA;\n",
              "      box-shadow: 0px 1px 2px rgba(60, 64, 67, 0.3), 0px 1px 3px 1px rgba(60, 64, 67, 0.15);\n",
              "      fill: #174EA6;\n",
              "    }\n",
              "\n",
              "    .colab-df-buttons div {\n",
              "      margin-bottom: 4px;\n",
              "    }\n",
              "\n",
              "    [theme=dark] .colab-df-convert {\n",
              "      background-color: #3B4455;\n",
              "      fill: #D2E3FC;\n",
              "    }\n",
              "\n",
              "    [theme=dark] .colab-df-convert:hover {\n",
              "      background-color: #434B5C;\n",
              "      box-shadow: 0px 1px 3px 1px rgba(0, 0, 0, 0.15);\n",
              "      filter: drop-shadow(0px 1px 2px rgba(0, 0, 0, 0.3));\n",
              "      fill: #FFFFFF;\n",
              "    }\n",
              "  </style>\n",
              "\n",
              "    <script>\n",
              "      const buttonEl =\n",
              "        document.querySelector('#df-9f5f445f-a0db-4e5b-83da-8ffe2cd40b26 button.colab-df-convert');\n",
              "      buttonEl.style.display =\n",
              "        google.colab.kernel.accessAllowed ? 'block' : 'none';\n",
              "\n",
              "      async function convertToInteractive(key) {\n",
              "        const element = document.querySelector('#df-9f5f445f-a0db-4e5b-83da-8ffe2cd40b26');\n",
              "        const dataTable =\n",
              "          await google.colab.kernel.invokeFunction('convertToInteractive',\n",
              "                                                    [key], {});\n",
              "        if (!dataTable) return;\n",
              "\n",
              "        const docLinkHtml = 'Like what you see? Visit the ' +\n",
              "          '<a target=\"_blank\" href=https://colab.research.google.com/notebooks/data_table.ipynb>data table notebook</a>'\n",
              "          + ' to learn more about interactive tables.';\n",
              "        element.innerHTML = '';\n",
              "        dataTable['output_type'] = 'display_data';\n",
              "        await google.colab.output.renderOutput(dataTable, element);\n",
              "        const docLink = document.createElement('div');\n",
              "        docLink.innerHTML = docLinkHtml;\n",
              "        element.appendChild(docLink);\n",
              "      }\n",
              "    </script>\n",
              "  </div>\n",
              "\n",
              "\n",
              "<div id=\"df-d00646f9-731c-4772-aeb2-66c8e37b3f02\">\n",
              "  <button class=\"colab-df-quickchart\" onclick=\"quickchart('df-d00646f9-731c-4772-aeb2-66c8e37b3f02')\"\n",
              "            title=\"Suggest charts.\"\n",
              "            style=\"display:none;\">\n",
              "\n",
              "<svg xmlns=\"http://www.w3.org/2000/svg\" height=\"24px\"viewBox=\"0 0 24 24\"\n",
              "     width=\"24px\">\n",
              "    <g>\n",
              "        <path d=\"M19 3H5c-1.1 0-2 .9-2 2v14c0 1.1.9 2 2 2h14c1.1 0 2-.9 2-2V5c0-1.1-.9-2-2-2zM9 17H7v-7h2v7zm4 0h-2V7h2v10zm4 0h-2v-4h2v4z\"/>\n",
              "    </g>\n",
              "</svg>\n",
              "  </button>\n",
              "\n",
              "<style>\n",
              "  .colab-df-quickchart {\n",
              "      --bg-color: #E8F0FE;\n",
              "      --fill-color: #1967D2;\n",
              "      --hover-bg-color: #E2EBFA;\n",
              "      --hover-fill-color: #174EA6;\n",
              "      --disabled-fill-color: #AAA;\n",
              "      --disabled-bg-color: #DDD;\n",
              "  }\n",
              "\n",
              "  [theme=dark] .colab-df-quickchart {\n",
              "      --bg-color: #3B4455;\n",
              "      --fill-color: #D2E3FC;\n",
              "      --hover-bg-color: #434B5C;\n",
              "      --hover-fill-color: #FFFFFF;\n",
              "      --disabled-bg-color: #3B4455;\n",
              "      --disabled-fill-color: #666;\n",
              "  }\n",
              "\n",
              "  .colab-df-quickchart {\n",
              "    background-color: var(--bg-color);\n",
              "    border: none;\n",
              "    border-radius: 50%;\n",
              "    cursor: pointer;\n",
              "    display: none;\n",
              "    fill: var(--fill-color);\n",
              "    height: 32px;\n",
              "    padding: 0;\n",
              "    width: 32px;\n",
              "  }\n",
              "\n",
              "  .colab-df-quickchart:hover {\n",
              "    background-color: var(--hover-bg-color);\n",
              "    box-shadow: 0 1px 2px rgba(60, 64, 67, 0.3), 0 1px 3px 1px rgba(60, 64, 67, 0.15);\n",
              "    fill: var(--button-hover-fill-color);\n",
              "  }\n",
              "\n",
              "  .colab-df-quickchart-complete:disabled,\n",
              "  .colab-df-quickchart-complete:disabled:hover {\n",
              "    background-color: var(--disabled-bg-color);\n",
              "    fill: var(--disabled-fill-color);\n",
              "    box-shadow: none;\n",
              "  }\n",
              "\n",
              "  .colab-df-spinner {\n",
              "    border: 2px solid var(--fill-color);\n",
              "    border-color: transparent;\n",
              "    border-bottom-color: var(--fill-color);\n",
              "    animation:\n",
              "      spin 1s steps(1) infinite;\n",
              "  }\n",
              "\n",
              "  @keyframes spin {\n",
              "    0% {\n",
              "      border-color: transparent;\n",
              "      border-bottom-color: var(--fill-color);\n",
              "      border-left-color: var(--fill-color);\n",
              "    }\n",
              "    20% {\n",
              "      border-color: transparent;\n",
              "      border-left-color: var(--fill-color);\n",
              "      border-top-color: var(--fill-color);\n",
              "    }\n",
              "    30% {\n",
              "      border-color: transparent;\n",
              "      border-left-color: var(--fill-color);\n",
              "      border-top-color: var(--fill-color);\n",
              "      border-right-color: var(--fill-color);\n",
              "    }\n",
              "    40% {\n",
              "      border-color: transparent;\n",
              "      border-right-color: var(--fill-color);\n",
              "      border-top-color: var(--fill-color);\n",
              "    }\n",
              "    60% {\n",
              "      border-color: transparent;\n",
              "      border-right-color: var(--fill-color);\n",
              "    }\n",
              "    80% {\n",
              "      border-color: transparent;\n",
              "      border-right-color: var(--fill-color);\n",
              "      border-bottom-color: var(--fill-color);\n",
              "    }\n",
              "    90% {\n",
              "      border-color: transparent;\n",
              "      border-bottom-color: var(--fill-color);\n",
              "    }\n",
              "  }\n",
              "</style>\n",
              "\n",
              "  <script>\n",
              "    async function quickchart(key) {\n",
              "      const quickchartButtonEl =\n",
              "        document.querySelector('#' + key + ' button');\n",
              "      quickchartButtonEl.disabled = true;  // To prevent multiple clicks.\n",
              "      quickchartButtonEl.classList.add('colab-df-spinner');\n",
              "      try {\n",
              "        const charts = await google.colab.kernel.invokeFunction(\n",
              "            'suggestCharts', [key], {});\n",
              "      } catch (error) {\n",
              "        console.error('Error during call to suggestCharts:', error);\n",
              "      }\n",
              "      quickchartButtonEl.classList.remove('colab-df-spinner');\n",
              "      quickchartButtonEl.classList.add('colab-df-quickchart-complete');\n",
              "    }\n",
              "    (() => {\n",
              "      let quickchartButtonEl =\n",
              "        document.querySelector('#df-d00646f9-731c-4772-aeb2-66c8e37b3f02 button');\n",
              "      quickchartButtonEl.style.display =\n",
              "        google.colab.kernel.accessAllowed ? 'block' : 'none';\n",
              "    })();\n",
              "  </script>\n",
              "</div>\n",
              "    </div>\n",
              "  </div>\n"
            ]
          },
          "metadata": {},
          "execution_count": 199
        }
      ]
    },
    {
      "cell_type": "code",
      "execution_count": null,
      "id": "1be5cb93",
      "metadata": {
        "pycharm": {
          "name": "#%%\n"
        },
        "id": "1be5cb93",
        "colab": {
          "base_uri": "https://localhost:8080/"
        },
        "outputId": "d6aa1745-4071-4612-8256-fb4c7952e051"
      },
      "outputs": [
        {
          "output_type": "stream",
          "name": "stdout",
          "text": [
            "     CHAS    NOX     RM     DIS  PTRATIO  LSTAT\n",
            "0     0.0  0.538  6.575  4.0900     15.3   4.98\n",
            "1     0.0  0.469  6.421  4.9671     17.8   9.14\n",
            "2     0.0  0.469  7.185  4.9671     17.8   4.03\n",
            "3     0.0  0.458  6.998  6.0622     18.7   2.94\n",
            "4     0.0  0.458  7.147  6.0622     18.7   5.33\n",
            "..    ...    ...    ...     ...      ...    ...\n",
            "501   0.0  0.573  6.593  2.4786     21.0   9.67\n",
            "502   0.0  0.573  6.120  2.2875     21.0   9.08\n",
            "503   0.0  0.573  6.976  2.1675     21.0   5.64\n",
            "504   0.0  0.573  6.794  2.3889     21.0   6.48\n",
            "505   0.0  0.573  6.030  2.5050     21.0   7.88\n",
            "\n",
            "[506 rows x 6 columns]\n"
          ]
        }
      ],
      "source": [
        "# Selecting the features data\n",
        "X = df_2.iloc[:,:-1]\n",
        "print(X)"
      ]
    },
    {
      "cell_type": "code",
      "source": [
        "# Selecting the target variable\n",
        "y = df_2['PRICE']\n",
        "print(y)"
      ],
      "metadata": {
        "colab": {
          "base_uri": "https://localhost:8080/"
        },
        "id": "rgvUhGv8uD_H",
        "outputId": "a4cf6b33-39f9-40c1-8505-a49fd192ebb1"
      },
      "id": "rgvUhGv8uD_H",
      "execution_count": null,
      "outputs": [
        {
          "output_type": "stream",
          "name": "stdout",
          "text": [
            "0      24.0\n",
            "1      21.6\n",
            "2      34.7\n",
            "3      33.4\n",
            "4      36.2\n",
            "       ... \n",
            "501    22.4\n",
            "502    20.6\n",
            "503    23.9\n",
            "504    22.0\n",
            "505    11.9\n",
            "Name: PRICE, Length: 506, dtype: float64\n"
          ]
        }
      ]
    },
    {
      "cell_type": "code",
      "source": [
        "# Splitting the dataset into training and testing with test set as 20% and random state as 42\n",
        "X_train, X_test, y_train, y_test = train_test_split(X, y, test_size=0.20, random_state=42)"
      ],
      "metadata": {
        "id": "yw9xu-vbuMmJ"
      },
      "id": "yw9xu-vbuMmJ",
      "execution_count": null,
      "outputs": []
    },
    {
      "cell_type": "markdown",
      "id": "f3379218",
      "metadata": {
        "pycharm": {
          "name": "#%% md\n"
        },
        "id": "f3379218"
      },
      "source": [
        "### 13. Re calculate the M.S.E  <div style=\"text-align: right\"> [1.5 pts] </div>"
      ]
    },
    {
      "cell_type": "code",
      "source": [
        "# Building linear regression model using the 'LinearRegression' sklearn model library\n",
        "ln = LinearRegression()\n",
        "ln.fit(X_train, y_train)\n",
        "y_pred = ln.predict(X_test)\n",
        "print(y_pred)"
      ],
      "metadata": {
        "colab": {
          "base_uri": "https://localhost:8080/"
        },
        "id": "bQzPAvOwo2oj",
        "outputId": "8b75f4f6-1fc7-468f-a863-03584f41d8db"
      },
      "id": "bQzPAvOwo2oj",
      "execution_count": null,
      "outputs": [
        {
          "output_type": "stream",
          "name": "stdout",
          "text": [
            "[28.85516944 35.54054051 17.48609658 25.50921617 16.60825163 24.33509295\n",
            " 17.39698534 13.88164479 21.44224431 20.36174139 24.42444606 18.86135924\n",
            " -1.14334639 22.77016588 19.15283578 24.54620687 18.64043046  3.97872397\n",
            " 39.03239345 15.75301552 26.29351583 28.67706873 11.44508388 24.03082273\n",
            " 16.67864241 14.6856565  23.59626071 17.57469037 22.73065421 18.97879712\n",
            " 21.97740163 25.12100371 25.3720093  15.59706759 15.34574154 17.89065196\n",
            " 31.97989822 19.3435389  24.22599095 25.18159909 13.34066464 30.01055184\n",
            " 40.2533324  18.0846838  27.71440533 14.86976699 14.30492182 26.40971229\n",
            " 18.38735897 30.81952968 21.46588557 33.66336819 15.84192494 26.67528714\n",
            " 38.77780035 21.03306408 16.54557731 30.53615818 25.23319542 12.76347195\n",
            " 21.91620168 28.57576965 30.90088894 16.93114715 22.2572847  16.71908174\n",
            " 18.62800633 25.69817421 28.98548556 13.94536885 20.21335612 26.36788479\n",
            " 11.0100745  15.89272345 24.62090911  6.81230967 21.83926841 38.92335987\n",
            " 17.41674772 11.77166608 21.79468446 11.8146936  20.98447872  7.22876566\n",
            " 22.97756191 32.38976537 18.61633622 25.46148146 27.67168187 20.21187492\n",
            " 25.40201782  8.44576253 20.4430796  17.3202565  10.87279592 21.22018297\n",
            " 23.61993029  2.81065865 16.81145172 19.277969   22.16648266 25.52699046]\n"
          ]
        }
      ]
    },
    {
      "cell_type": "code",
      "source": [
        "# Building Ridge regression model using the 'Ridge' sklearn model library\n",
        "rd = Ridge(alpha=1.0)\n",
        "rd.fit(X_train, y_train)\n",
        "y_pred_rd = rd.predict(X_test)"
      ],
      "metadata": {
        "id": "10rFNJm3EqGT"
      },
      "id": "10rFNJm3EqGT",
      "execution_count": null,
      "outputs": []
    },
    {
      "cell_type": "code",
      "source": [
        "# Calculating the Mean Squared Error for Linear and Ridge regression\n",
        "print(\"Linear Regression Mean Squared Error: \", mean_squared_error(y_test, y_pred))\n",
        "print(\"Ridge Regression Mean Squared Error: \", mean_squared_error(y_test, y_pred_rd))"
      ],
      "metadata": {
        "colab": {
          "base_uri": "https://localhost:8080/"
        },
        "id": "IMGtI-xSuUsp",
        "outputId": "d0f189af-3c6a-447b-9f6a-0b2459545f8e"
      },
      "id": "IMGtI-xSuUsp",
      "execution_count": null,
      "outputs": [
        {
          "output_type": "stream",
          "name": "stdout",
          "text": [
            "Linear Regression Mean Squared Error:  24.972510732890797\n",
            "Ridge Regression Mean Squared Error:  24.906899575754203\n"
          ]
        }
      ]
    },
    {
      "cell_type": "markdown",
      "id": "2cd6c8e3",
      "metadata": {
        "pycharm": {
          "name": "#%% md\n"
        },
        "id": "2cd6c8e3"
      },
      "source": [
        "### 14. Re Plot the coefficients  <div style=\"text-align: right\"> [0.25 pts] </div>"
      ]
    },
    {
      "cell_type": "code",
      "source": [
        "# Plotting the coefficients of Linear and Ridge Regression models\n",
        "\n",
        "attributes = [\"CHAS\", \"NOX\", \"RM\", \"DIS\",\"PTRATIO\" , \"LSTAT\"]\n",
        "\n",
        "# Access the coefficients weights of the features that were learned by the Linear and Ridge regression models\n",
        "linear_updated = (ln.coef_)\n",
        "ridge_updated = (rd.coef_)\n",
        "\n",
        "x_positions = np.arange(len(attributes))\n",
        "x_labels = attributes\n",
        "\n",
        "# Plot a scatter plot\n",
        "plt.scatter(x_positions, linear_updated, marker='s', label='Linear Regression')\n",
        "\n",
        "plt.scatter(x_positions , ridge_updated, marker='^', label='Ridge Regression (alpha=1.0)')\n",
        "\n",
        "# Plot a line through y = 0\n",
        "plt.axhline(y=0, color='red', linestyle='--', linewidth=1)\n",
        "\n",
        "# Assign X labels and rotate by 45 degrees for better readability\n",
        "plt.xticks(x_positions, x_labels)\n",
        "plt.xticks(rotation=45)\n",
        "\n",
        "# Add Labels\n",
        "plt.xlabel(\"Coefficient Columns\")\n",
        "plt.ylabel(\"Coefficient Magnitude\")\n",
        "\n",
        "plt.title(\"Linear vs Ridge Regression Coefficients\")\n",
        "plt.legend()\n",
        "plt.show()"
      ],
      "metadata": {
        "colab": {
          "base_uri": "https://localhost:8080/",
          "height": 508
        },
        "id": "PoPTtiEXvm9v",
        "outputId": "e9bce0ae-9b55-4ce3-d53b-eae06213d3a2"
      },
      "id": "PoPTtiEXvm9v",
      "execution_count": null,
      "outputs": [
        {
          "output_type": "display_data",
          "data": {
            "text/plain": [
              "<Figure size 640x480 with 1 Axes>"
            ],
            "image/png": "[encoded data removed]"
          },
          "metadata": {}
        }
      ]
    },
    {
      "cell_type": "markdown",
      "id": "486419d7",
      "metadata": {
        "pycharm": {
          "name": "#%% md\n"
        },
        "id": "486419d7"
      },
      "source": [
        "### 15. Do you think you picked the correct 'N' features? Explain your rationale.! <div style=\"text-align: right\"> [0.5 pts] </div>"
      ]
    },
    {
      "cell_type": "markdown",
      "source": [
        "The 'N' most important features are : 'CHAS', 'NOX', 'RM', 'DIS', 'PTRATIO', 'LSTAT'. Here, the features selected have a comparatively larger coefficient magnitudes which means they have a stronger influence on the dependent variable (which in this case is price variable)."
      ],
      "metadata": {
        "id": "nUMjAZ0C6hsz"
      },
      "id": "nUMjAZ0C6hsz"
    },
    {
      "cell_type": "markdown",
      "id": "dc06749d",
      "metadata": {
        "pycharm": {
          "name": "#%% md\n"
        },
        "id": "dc06749d"
      },
      "source": [
        "### 16. Write About (what are they and what do they impact) <div style=\"text-align: right\"> [0.5 pts] </div>"
      ]
    },
    {
      "cell_type": "markdown",
      "source": [
        "Selected features:\n",
        "1. CHAS : Charles River dummy variable and indicates if the area is bounded by the river or not. If value= 1, tract bounds river, otherwise 0. It's important as this might add to the higher value of a property.\n",
        "2. NOX : This represents the Nitric oxides concentration in the area. It's important as higher concentration of the chemical indicates poor air quality and might not be a suitable place to live hence reducing the value of housing.\n",
        "3. RM : This represents the average number of rooms per dwelling. More room generally tend to have a higher price.\n",
        "4. DIS : This represents the weighted distances to five Boston employment centers. Areas that are closer to the employment zones can have higher property price hence this variable can have an impact on the pricing.\n",
        "5. PTRATIO : Pupil-teacher ratio by town. Higher PTRATIO can often indicate better education system and hence can attract families which can lead to a higher price.\n",
        "6. LSTAT : Represents lower status of the population. LSTAT represents the percentage of people that are classified in the lower status/income area. This can directly impact the price of the property value if LSTAT is higher or lower."
      ],
      "metadata": {
        "id": "fKuF1Hlz5BCR"
      },
      "id": "fKuF1Hlz5BCR"
    },
    {
      "cell_type": "markdown",
      "id": "98ea5421",
      "metadata": {
        "pycharm": {
          "name": "#%% md\n"
        },
        "id": "98ea5421"
      },
      "source": [
        "#### 16.1. Magnitude of Coefficients"
      ]
    },
    {
      "cell_type": "markdown",
      "source": [
        "In regression, magnitude of coefficients refers to the absolute values of coefficients of independent variables in the model.\n",
        "\n",
        "Maginitude of the coefficients depict the strength and the relation of independent variables with the dependent varaible."
      ],
      "metadata": {
        "id": "PKUZ9Vcc1SGx"
      },
      "id": "PKUZ9Vcc1SGx"
    },
    {
      "cell_type": "code",
      "source": [
        "features = pd.DataFrame({'Feature': X.columns,'Linear': linear_updated,'Ridge': ridge_updated})\n",
        "features"
      ],
      "metadata": {
        "colab": {
          "base_uri": "https://localhost:8080/",
          "height": 237
        },
        "id": "FPZrh0F35NU0",
        "outputId": "38b1b83c-69d9-40ee-c66a-a49492a2d9e6"
      },
      "id": "FPZrh0F35NU0",
      "execution_count": null,
      "outputs": [
        {
          "output_type": "execute_result",
          "data": {
            "text/plain": [
              "   Feature     Linear      Ridge\n",
              "0     CHAS   3.504341   3.152965\n",
              "1      NOX -19.582321 -12.674345\n",
              "2       RM   4.468614   4.465908\n",
              "3      DIS  -1.193015  -0.957934\n",
              "4  PTRATIO  -0.961053  -0.932551\n",
              "5    LSTAT  -0.560380  -0.597673"
            ],
            "text/html": [
              "\n",
              "  <div id=\"df-80d2aaa8-1b11-4d1f-b18d-feedcac56626\" class=\"colab-df-container\">\n",
              "    <div>\n",
              "<style scoped>\n",
              "    .dataframe tbody tr th:only-of-type {\n",
              "        vertical-align: middle;\n",
              "    }\n",
              "\n",
              "    .dataframe tbody tr th {\n",
              "        vertical-align: top;\n",
              "    }\n",
              "\n",
              "    .dataframe thead th {\n",
              "        text-align: right;\n",
              "    }\n",
              "</style>\n",
              "<table border=\"1\" class=\"dataframe\">\n",
              "  <thead>\n",
              "    <tr style=\"text-align: right;\">\n",
              "      <th></th>\n",
              "      <th>Feature</th>\n",
              "      <th>Linear</th>\n",
              "      <th>Ridge</th>\n",
              "    </tr>\n",
              "  </thead>\n",
              "  <tbody>\n",
              "    <tr>\n",
              "      <th>0</th>\n",
              "      <td>CHAS</td>\n",
              "      <td>3.504341</td>\n",
              "      <td>3.152965</td>\n",
              "    </tr>\n",
              "    <tr>\n",
              "      <th>1</th>\n",
              "      <td>NOX</td>\n",
              "      <td>-19.582321</td>\n",
              "      <td>-12.674345</td>\n",
              "    </tr>\n",
              "    <tr>\n",
              "      <th>2</th>\n",
              "      <td>RM</td>\n",
              "      <td>4.468614</td>\n",
              "      <td>4.465908</td>\n",
              "    </tr>\n",
              "    <tr>\n",
              "      <th>3</th>\n",
              "      <td>DIS</td>\n",
              "      <td>-1.193015</td>\n",
              "      <td>-0.957934</td>\n",
              "    </tr>\n",
              "    <tr>\n",
              "      <th>4</th>\n",
              "      <td>PTRATIO</td>\n",
              "      <td>-0.961053</td>\n",
              "      <td>-0.932551</td>\n",
              "    </tr>\n",
              "    <tr>\n",
              "      <th>5</th>\n",
              "      <td>LSTAT</td>\n",
              "      <td>-0.560380</td>\n",
              "      <td>-0.597673</td>\n",
              "    </tr>\n",
              "  </tbody>\n",
              "</table>\n",
              "</div>\n",
              "    <div class=\"colab-df-buttons\">\n",
              "\n",
              "  <div class=\"colab-df-container\">\n",
              "    <button class=\"colab-df-convert\" onclick=\"convertToInteractive('df-80d2aaa8-1b11-4d1f-b18d-feedcac56626')\"\n",
              "            title=\"Convert this dataframe to an interactive table.\"\n",
              "            style=\"display:none;\">\n",
              "\n",
              "  <svg xmlns=\"http://www.w3.org/2000/svg\" height=\"24px\" viewBox=\"0 -960 960 960\">\n",
              "    <path d=\"M120-120v-720h720v720H120Zm60-500h600v-160H180v160Zm220 220h160v-160H400v160Zm0 220h160v-160H400v160ZM180-400h160v-160H180v160Zm440 0h160v-160H620v160ZM180-180h160v-160H180v160Zm440 0h160v-160H620v160Z\"/>\n",
              "  </svg>\n",
              "    </button>\n",
              "\n",
              "  <style>\n",
              "    .colab-df-container {\n",
              "      display:flex;\n",
              "      gap: 12px;\n",
              "    }\n",
              "\n",
              "    .colab-df-convert {\n",
              "      background-color: #E8F0FE;\n",
              "      border: none;\n",
              "      border-radius: 50%;\n",
              "      cursor: pointer;\n",
              "      display: none;\n",
              "      fill: #1967D2;\n",
              "      height: 32px;\n",
              "      padding: 0 0 0 0;\n",
              "      width: 32px;\n",
              "    }\n",
              "\n",
              "    .colab-df-convert:hover {\n",
              "      background-color: #E2EBFA;\n",
              "      box-shadow: 0px 1px 2px rgba(60, 64, 67, 0.3), 0px 1px 3px 1px rgba(60, 64, 67, 0.15);\n",
              "      fill: #174EA6;\n",
              "    }\n",
              "\n",
              "    .colab-df-buttons div {\n",
              "      margin-bottom: 4px;\n",
              "    }\n",
              "\n",
              "    [theme=dark] .colab-df-convert {\n",
              "      background-color: #3B4455;\n",
              "      fill: #D2E3FC;\n",
              "    }\n",
              "\n",
              "    [theme=dark] .colab-df-convert:hover {\n",
              "      background-color: #434B5C;\n",
              "      box-shadow: 0px 1px 3px 1px rgba(0, 0, 0, 0.15);\n",
              "      filter: drop-shadow(0px 1px 2px rgba(0, 0, 0, 0.3));\n",
              "      fill: #FFFFFF;\n",
              "    }\n",
              "  </style>\n",
              "\n",
              "    <script>\n",
              "      const buttonEl =\n",
              "        document.querySelector('#df-80d2aaa8-1b11-4d1f-b18d-feedcac56626 button.colab-df-convert');\n",
              "      buttonEl.style.display =\n",
              "        google.colab.kernel.accessAllowed ? 'block' : 'none';\n",
              "\n",
              "      async function convertToInteractive(key) {\n",
              "        const element = document.querySelector('#df-80d2aaa8-1b11-4d1f-b18d-feedcac56626');\n",
              "        const dataTable =\n",
              "          await google.colab.kernel.invokeFunction('convertToInteractive',\n",
              "                                                    [key], {});\n",
              "        if (!dataTable) return;\n",
              "\n",
              "        const docLinkHtml = 'Like what you see? Visit the ' +\n",
              "          '<a target=\"_blank\" href=https://colab.research.google.com/notebooks/data_table.ipynb>data table notebook</a>'\n",
              "          + ' to learn more about interactive tables.';\n",
              "        element.innerHTML = '';\n",
              "        dataTable['output_type'] = 'display_data';\n",
              "        await google.colab.output.renderOutput(dataTable, element);\n",
              "        const docLink = document.createElement('div');\n",
              "        docLink.innerHTML = docLinkHtml;\n",
              "        element.appendChild(docLink);\n",
              "      }\n",
              "    </script>\n",
              "  </div>\n",
              "\n",
              "\n",
              "<div id=\"df-40989a16-f7ad-4a6f-9cac-094472113930\">\n",
              "  <button class=\"colab-df-quickchart\" onclick=\"quickchart('df-40989a16-f7ad-4a6f-9cac-094472113930')\"\n",
              "            title=\"Suggest charts.\"\n",
              "            style=\"display:none;\">\n",
              "\n",
              "<svg xmlns=\"http://www.w3.org/2000/svg\" height=\"24px\"viewBox=\"0 0 24 24\"\n",
              "     width=\"24px\">\n",
              "    <g>\n",
              "        <path d=\"M19 3H5c-1.1 0-2 .9-2 2v14c0 1.1.9 2 2 2h14c1.1 0 2-.9 2-2V5c0-1.1-.9-2-2-2zM9 17H7v-7h2v7zm4 0h-2V7h2v10zm4 0h-2v-4h2v4z\"/>\n",
              "    </g>\n",
              "</svg>\n",
              "  </button>\n",
              "\n",
              "<style>\n",
              "  .colab-df-quickchart {\n",
              "      --bg-color: #E8F0FE;\n",
              "      --fill-color: #1967D2;\n",
              "      --hover-bg-color: #E2EBFA;\n",
              "      --hover-fill-color: #174EA6;\n",
              "      --disabled-fill-color: #AAA;\n",
              "      --disabled-bg-color: #DDD;\n",
              "  }\n",
              "\n",
              "  [theme=dark] .colab-df-quickchart {\n",
              "      --bg-color: #3B4455;\n",
              "      --fill-color: #D2E3FC;\n",
              "      --hover-bg-color: #434B5C;\n",
              "      --hover-fill-color: #FFFFFF;\n",
              "      --disabled-bg-color: #3B4455;\n",
              "      --disabled-fill-color: #666;\n",
              "  }\n",
              "\n",
              "  .colab-df-quickchart {\n",
              "    background-color: var(--bg-color);\n",
              "    border: none;\n",
              "    border-radius: 50%;\n",
              "    cursor: pointer;\n",
              "    display: none;\n",
              "    fill: var(--fill-color);\n",
              "    height: 32px;\n",
              "    padding: 0;\n",
              "    width: 32px;\n",
              "  }\n",
              "\n",
              "  .colab-df-quickchart:hover {\n",
              "    background-color: var(--hover-bg-color);\n",
              "    box-shadow: 0 1px 2px rgba(60, 64, 67, 0.3), 0 1px 3px 1px rgba(60, 64, 67, 0.15);\n",
              "    fill: var(--button-hover-fill-color);\n",
              "  }\n",
              "\n",
              "  .colab-df-quickchart-complete:disabled,\n",
              "  .colab-df-quickchart-complete:disabled:hover {\n",
              "    background-color: var(--disabled-bg-color);\n",
              "    fill: var(--disabled-fill-color);\n",
              "    box-shadow: none;\n",
              "  }\n",
              "\n",
              "  .colab-df-spinner {\n",
              "    border: 2px solid var(--fill-color);\n",
              "    border-color: transparent;\n",
              "    border-bottom-color: var(--fill-color);\n",
              "    animation:\n",
              "      spin 1s steps(1) infinite;\n",
              "  }\n",
              "\n",
              "  @keyframes spin {\n",
              "    0% {\n",
              "      border-color: transparent;\n",
              "      border-bottom-color: var(--fill-color);\n",
              "      border-left-color: var(--fill-color);\n",
              "    }\n",
              "    20% {\n",
              "      border-color: transparent;\n",
              "      border-left-color: var(--fill-color);\n",
              "      border-top-color: var(--fill-color);\n",
              "    }\n",
              "    30% {\n",
              "      border-color: transparent;\n",
              "      border-left-color: var(--fill-color);\n",
              "      border-top-color: var(--fill-color);\n",
              "      border-right-color: var(--fill-color);\n",
              "    }\n",
              "    40% {\n",
              "      border-color: transparent;\n",
              "      border-right-color: var(--fill-color);\n",
              "      border-top-color: var(--fill-color);\n",
              "    }\n",
              "    60% {\n",
              "      border-color: transparent;\n",
              "      border-right-color: var(--fill-color);\n",
              "    }\n",
              "    80% {\n",
              "      border-color: transparent;\n",
              "      border-right-color: var(--fill-color);\n",
              "      border-bottom-color: var(--fill-color);\n",
              "    }\n",
              "    90% {\n",
              "      border-color: transparent;\n",
              "      border-bottom-color: var(--fill-color);\n",
              "    }\n",
              "  }\n",
              "</style>\n",
              "\n",
              "  <script>\n",
              "    async function quickchart(key) {\n",
              "      const quickchartButtonEl =\n",
              "        document.querySelector('#' + key + ' button');\n",
              "      quickchartButtonEl.disabled = true;  // To prevent multiple clicks.\n",
              "      quickchartButtonEl.classList.add('colab-df-spinner');\n",
              "      try {\n",
              "        const charts = await google.colab.kernel.invokeFunction(\n",
              "            'suggestCharts', [key], {});\n",
              "      } catch (error) {\n",
              "        console.error('Error during call to suggestCharts:', error);\n",
              "      }\n",
              "      quickchartButtonEl.classList.remove('colab-df-spinner');\n",
              "      quickchartButtonEl.classList.add('colab-df-quickchart-complete');\n",
              "    }\n",
              "    (() => {\n",
              "      let quickchartButtonEl =\n",
              "        document.querySelector('#df-40989a16-f7ad-4a6f-9cac-094472113930 button');\n",
              "      quickchartButtonEl.style.display =\n",
              "        google.colab.kernel.accessAllowed ? 'block' : 'none';\n",
              "    })();\n",
              "  </script>\n",
              "</div>\n",
              "    </div>\n",
              "  </div>\n"
            ]
          },
          "metadata": {},
          "execution_count": 208
        }
      ]
    },
    {
      "cell_type": "markdown",
      "id": "6963fbc1",
      "metadata": {
        "pycharm": {
          "name": "#%% md\n"
        },
        "id": "6963fbc1"
      },
      "source": [
        "#### 16.2. Sign of Coefficients"
      ]
    },
    {
      "cell_type": "markdown",
      "source": [
        "As seen above, the sign of coefficients represents the direction of the relation between the independent and dependent variable. A negative sign indicates an inverse relation, where an increase in independent variable leads to the decrease in dependent variable. A positive sign indicates a directly proportional relation where increase in independent variable leads to an increase in dependent variable.\n",
        "\n",
        "Example:\n",
        "For the variable NOX, Linear: -19.582, Ridge: -12.674, an increase in nitric oxides concentration tends to be associated with a decrease in the target varaible i.e. the median value of homes, which represents higher pollution reduces the property value."
      ],
      "metadata": {
        "id": "qGzm3E3D2L1x"
      },
      "id": "qGzm3E3D2L1x"
    },
    {
      "cell_type": "markdown",
      "id": "649203bf",
      "metadata": {
        "pycharm": {
          "name": "#%% md\n"
        },
        "id": "649203bf"
      },
      "source": [
        "### 17.Why is there any difference between the coefficients of the two (linear/ridge) models (if any)? <div style=\"text-align: right\"> [0.5 pts] </div>"
      ]
    },
    {
      "cell_type": "markdown",
      "source": [
        "The main point of difference between the coefficients of linear and ridge regression is due to the regularization in ridge regression.\n",
        "\n",
        "Regularization includes a penalty term and also helps handle overfitting in case of multicollinearity between the variables.  \n"
      ],
      "metadata": {
        "id": "zV3dM0tLJhjx"
      },
      "id": "zV3dM0tLJhjx"
    },
    {
      "cell_type": "markdown",
      "id": "58d3cf1c",
      "metadata": {
        "pycharm": {
          "name": "#%% md\n"
        },
        "id": "58d3cf1c"
      },
      "source": [
        "### 18. What optimisation (cost reduction) method did you used? <div style=\"text-align: right\"> [0.5 pts] </div>"
      ]
    },
    {
      "cell_type": "markdown",
      "source": [
        " Linear Regression generally uses the Ordinary Least Squares (OLS) method, which aims to minimize the sum of squared differences between the observed and predicted values.\n",
        "\n",
        " Whereas Ridge Regression uses an L2 regularization term, which aims to minimizes the residual sum of squares and also adds a penalty on the size of coefficients."
      ],
      "metadata": {
        "id": "Ftes4j4PEiuj"
      },
      "id": "Ftes4j4PEiuj"
    },
    {
      "cell_type": "markdown",
      "source": [
        "# Question 2(10 points)"
      ],
      "metadata": {
        "collapsed": false,
        "pycharm": {
          "name": "#%% md\n"
        },
        "id": "6Kdso-YKhYFe"
      },
      "id": "6Kdso-YKhYFe"
    },
    {
      "cell_type": "markdown",
      "source": [
        "You have been provided with a comprehensive dataset containing customer data collected during a recent marketing campaign. The primary objective of this assignment is to leverage machine learning techniques to predict whether a customer will respond positively (1) or negatively (0) to a promotional offer. The dataset encompasses a variety of customer attributes, including age, income, and previous purchase history."
      ],
      "metadata": {
        "collapsed": false,
        "pycharm": {
          "name": "#%% md\n"
        },
        "id": "TIDuuMN0hYFe"
      },
      "id": "TIDuuMN0hYFe"
    },
    {
      "cell_type": "markdown",
      "source": [
        "a. Load and preprocess the dataset, preparing it for machine learning."
      ],
      "metadata": {
        "collapsed": false,
        "pycharm": {
          "name": "#%% md\n"
        },
        "id": "GBgLU6h7hYFf"
      },
      "id": "GBgLU6h7hYFf"
    },
    {
      "cell_type": "code",
      "execution_count": null,
      "outputs": [
        {
          "output_type": "execute_result",
          "data": {
            "text/plain": [
              "     ID  Year_Birth   Education Marital_Status   Income  Kidhome  Teenhome  \\\n",
              "0  5524        1957  Graduation         Single  58138.0        0         0   \n",
              "1  2174        1954  Graduation         Single  46344.0        1         1   \n",
              "2  4141        1965  Graduation       Together  71613.0        0         0   \n",
              "3  6182        1984  Graduation       Together  26646.0        1         0   \n",
              "4  5324        1981         PhD        Married  58293.0        1         0   \n",
              "\n",
              "  Dt_Customer  Recency  MntWines  ...  NumWebVisitsMonth  AcceptedCmp3  \\\n",
              "0  2012-09-04       58       635  ...                  7             0   \n",
              "1  2014-03-08       38        11  ...                  5             0   \n",
              "2  2013-08-21       26       426  ...                  4             0   \n",
              "3  2014-02-10       26        11  ...                  6             0   \n",
              "4  2014-01-19       94       173  ...                  5             0   \n",
              "\n",
              "   AcceptedCmp4  AcceptedCmp5  AcceptedCmp1  AcceptedCmp2  Complain  \\\n",
              "0             0             0             0             0         0   \n",
              "1             0             0             0             0         0   \n",
              "2             0             0             0             0         0   \n",
              "3             0             0             0             0         0   \n",
              "4             0             0             0             0         0   \n",
              "\n",
              "   Z_CostContact  Z_Revenue  Response  \n",
              "0              3         11         1  \n",
              "1              3         11         0  \n",
              "2              3         11         0  \n",
              "3              3         11         0  \n",
              "4              3         11         0  \n",
              "\n",
              "[5 rows x 29 columns]"
            ],
            "text/html": [
              "\n",
              "  <div id=\"df-6913ae25-a367-4a8e-b440-8618597828c1\" class=\"colab-df-container\">\n",
              "    <div>\n",
              "<style scoped>\n",
              "    .dataframe tbody tr th:only-of-type {\n",
              "        vertical-align: middle;\n",
              "    }\n",
              "\n",
              "    .dataframe tbody tr th {\n",
              "        vertical-align: top;\n",
              "    }\n",
              "\n",
              "    .dataframe thead th {\n",
              "        text-align: right;\n",
              "    }\n",
              "</style>\n",
              "<table border=\"1\" class=\"dataframe\">\n",
              "  <thead>\n",
              "    <tr style=\"text-align: right;\">\n",
              "      <th></th>\n",
              "      <th>ID</th>\n",
              "      <th>Year_Birth</th>\n",
              "      <th>Education</th>\n",
              "      <th>Marital_Status</th>\n",
              "      <th>Income</th>\n",
              "      <th>Kidhome</th>\n",
              "      <th>Teenhome</th>\n",
              "      <th>Dt_Customer</th>\n",
              "      <th>Recency</th>\n",
              "      <th>MntWines</th>\n",
              "      <th>...</th>\n",
              "      <th>NumWebVisitsMonth</th>\n",
              "      <th>AcceptedCmp3</th>\n",
              "      <th>AcceptedCmp4</th>\n",
              "      <th>AcceptedCmp5</th>\n",
              "      <th>AcceptedCmp1</th>\n",
              "      <th>AcceptedCmp2</th>\n",
              "      <th>Complain</th>\n",
              "      <th>Z_CostContact</th>\n",
              "      <th>Z_Revenue</th>\n",
              "      <th>Response</th>\n",
              "    </tr>\n",
              "  </thead>\n",
              "  <tbody>\n",
              "    <tr>\n",
              "      <th>0</th>\n",
              "      <td>5524</td>\n",
              "      <td>1957</td>\n",
              "      <td>Graduation</td>\n",
              "      <td>Single</td>\n",
              "      <td>58138.0</td>\n",
              "      <td>0</td>\n",
              "      <td>0</td>\n",
              "      <td>2012-09-04</td>\n",
              "      <td>58</td>\n",
              "      <td>635</td>\n",
              "      <td>...</td>\n",
              "      <td>7</td>\n",
              "      <td>0</td>\n",
              "      <td>0</td>\n",
              "      <td>0</td>\n",
              "      <td>0</td>\n",
              "      <td>0</td>\n",
              "      <td>0</td>\n",
              "      <td>3</td>\n",
              "      <td>11</td>\n",
              "      <td>1</td>\n",
              "    </tr>\n",
              "    <tr>\n",
              "      <th>1</th>\n",
              "      <td>2174</td>\n",
              "      <td>1954</td>\n",
              "      <td>Graduation</td>\n",
              "      <td>Single</td>\n",
              "      <td>46344.0</td>\n",
              "      <td>1</td>\n",
              "      <td>1</td>\n",
              "      <td>2014-03-08</td>\n",
              "      <td>38</td>\n",
              "      <td>11</td>\n",
              "      <td>...</td>\n",
              "      <td>5</td>\n",
              "      <td>0</td>\n",
              "      <td>0</td>\n",
              "      <td>0</td>\n",
              "      <td>0</td>\n",
              "      <td>0</td>\n",
              "      <td>0</td>\n",
              "      <td>3</td>\n",
              "      <td>11</td>\n",
              "      <td>0</td>\n",
              "    </tr>\n",
              "    <tr>\n",
              "      <th>2</th>\n",
              "      <td>4141</td>\n",
              "      <td>1965</td>\n",
              "      <td>Graduation</td>\n",
              "      <td>Together</td>\n",
              "      <td>71613.0</td>\n",
              "      <td>0</td>\n",
              "      <td>0</td>\n",
              "      <td>2013-08-21</td>\n",
              "      <td>26</td>\n",
              "      <td>426</td>\n",
              "      <td>...</td>\n",
              "      <td>4</td>\n",
              "      <td>0</td>\n",
              "      <td>0</td>\n",
              "      <td>0</td>\n",
              "      <td>0</td>\n",
              "      <td>0</td>\n",
              "      <td>0</td>\n",
              "      <td>3</td>\n",
              "      <td>11</td>\n",
              "      <td>0</td>\n",
              "    </tr>\n",
              "    <tr>\n",
              "      <th>3</th>\n",
              "      <td>6182</td>\n",
              "      <td>1984</td>\n",
              "      <td>Graduation</td>\n",
              "      <td>Together</td>\n",
              "      <td>26646.0</td>\n",
              "      <td>1</td>\n",
              "      <td>0</td>\n",
              "      <td>2014-02-10</td>\n",
              "      <td>26</td>\n",
              "      <td>11</td>\n",
              "      <td>...</td>\n",
              "      <td>6</td>\n",
              "      <td>0</td>\n",
              "      <td>0</td>\n",
              "      <td>0</td>\n",
              "      <td>0</td>\n",
              "      <td>0</td>\n",
              "      <td>0</td>\n",
              "      <td>3</td>\n",
              "      <td>11</td>\n",
              "      <td>0</td>\n",
              "    </tr>\n",
              "    <tr>\n",
              "      <th>4</th>\n",
              "      <td>5324</td>\n",
              "      <td>1981</td>\n",
              "      <td>PhD</td>\n",
              "      <td>Married</td>\n",
              "      <td>58293.0</td>\n",
              "      <td>1</td>\n",
              "      <td>0</td>\n",
              "      <td>2014-01-19</td>\n",
              "      <td>94</td>\n",
              "      <td>173</td>\n",
              "      <td>...</td>\n",
              "      <td>5</td>\n",
              "      <td>0</td>\n",
              "      <td>0</td>\n",
              "      <td>0</td>\n",
              "      <td>0</td>\n",
              "      <td>0</td>\n",
              "      <td>0</td>\n",
              "      <td>3</td>\n",
              "      <td>11</td>\n",
              "      <td>0</td>\n",
              "    </tr>\n",
              "  </tbody>\n",
              "</table>\n",
              "<p>5 rows × 29 columns</p>\n",
              "</div>\n",
              "    <div class=\"colab-df-buttons\">\n",
              "\n",
              "  <div class=\"colab-df-container\">\n",
              "    <button class=\"colab-df-convert\" onclick=\"convertToInteractive('df-6913ae25-a367-4a8e-b440-8618597828c1')\"\n",
              "            title=\"Convert this dataframe to an interactive table.\"\n",
              "            style=\"display:none;\">\n",
              "\n",
              "  <svg xmlns=\"http://www.w3.org/2000/svg\" height=\"24px\" viewBox=\"0 -960 960 960\">\n",
              "    <path d=\"M120-120v-720h720v720H120Zm60-500h600v-160H180v160Zm220 220h160v-160H400v160Zm0 220h160v-160H400v160ZM180-400h160v-160H180v160Zm440 0h160v-160H620v160ZM180-180h160v-160H180v160Zm440 0h160v-160H620v160Z\"/>\n",
              "  </svg>\n",
              "    </button>\n",
              "\n",
              "  <style>\n",
              "    .colab-df-container {\n",
              "      display:flex;\n",
              "      gap: 12px;\n",
              "    }\n",
              "\n",
              "    .colab-df-convert {\n",
              "      background-color: #E8F0FE;\n",
              "      border: none;\n",
              "      border-radius: 50%;\n",
              "      cursor: pointer;\n",
              "      display: none;\n",
              "      fill: #1967D2;\n",
              "      height: 32px;\n",
              "      padding: 0 0 0 0;\n",
              "      width: 32px;\n",
              "    }\n",
              "\n",
              "    .colab-df-convert:hover {\n",
              "      background-color: #E2EBFA;\n",
              "      box-shadow: 0px 1px 2px rgba(60, 64, 67, 0.3), 0px 1px 3px 1px rgba(60, 64, 67, 0.15);\n",
              "      fill: #174EA6;\n",
              "    }\n",
              "\n",
              "    .colab-df-buttons div {\n",
              "      margin-bottom: 4px;\n",
              "    }\n",
              "\n",
              "    [theme=dark] .colab-df-convert {\n",
              "      background-color: #3B4455;\n",
              "      fill: #D2E3FC;\n",
              "    }\n",
              "\n",
              "    [theme=dark] .colab-df-convert:hover {\n",
              "      background-color: #434B5C;\n",
              "      box-shadow: 0px 1px 3px 1px rgba(0, 0, 0, 0.15);\n",
              "      filter: drop-shadow(0px 1px 2px rgba(0, 0, 0, 0.3));\n",
              "      fill: #FFFFFF;\n",
              "    }\n",
              "  </style>\n",
              "\n",
              "    <script>\n",
              "      const buttonEl =\n",
              "        document.querySelector('#df-6913ae25-a367-4a8e-b440-8618597828c1 button.colab-df-convert');\n",
              "      buttonEl.style.display =\n",
              "        google.colab.kernel.accessAllowed ? 'block' : 'none';\n",
              "\n",
              "      async function convertToInteractive(key) {\n",
              "        const element = document.querySelector('#df-6913ae25-a367-4a8e-b440-8618597828c1');\n",
              "        const dataTable =\n",
              "          await google.colab.kernel.invokeFunction('convertToInteractive',\n",
              "                                                    [key], {});\n",
              "        if (!dataTable) return;\n",
              "\n",
              "        const docLinkHtml = 'Like what you see? Visit the ' +\n",
              "          '<a target=\"_blank\" href=https://colab.research.google.com/notebooks/data_table.ipynb>data table notebook</a>'\n",
              "          + ' to learn more about interactive tables.';\n",
              "        element.innerHTML = '';\n",
              "        dataTable['output_type'] = 'display_data';\n",
              "        await google.colab.output.renderOutput(dataTable, element);\n",
              "        const docLink = document.createElement('div');\n",
              "        docLink.innerHTML = docLinkHtml;\n",
              "        element.appendChild(docLink);\n",
              "      }\n",
              "    </script>\n",
              "  </div>\n",
              "\n",
              "\n",
              "<div id=\"df-29a6c891-d373-4ebb-9a7c-c85d80fc48ba\">\n",
              "  <button class=\"colab-df-quickchart\" onclick=\"quickchart('df-29a6c891-d373-4ebb-9a7c-c85d80fc48ba')\"\n",
              "            title=\"Suggest charts.\"\n",
              "            style=\"display:none;\">\n",
              "\n",
              "<svg xmlns=\"http://www.w3.org/2000/svg\" height=\"24px\"viewBox=\"0 0 24 24\"\n",
              "     width=\"24px\">\n",
              "    <g>\n",
              "        <path d=\"M19 3H5c-1.1 0-2 .9-2 2v14c0 1.1.9 2 2 2h14c1.1 0 2-.9 2-2V5c0-1.1-.9-2-2-2zM9 17H7v-7h2v7zm4 0h-2V7h2v10zm4 0h-2v-4h2v4z\"/>\n",
              "    </g>\n",
              "</svg>\n",
              "  </button>\n",
              "\n",
              "<style>\n",
              "  .colab-df-quickchart {\n",
              "      --bg-color: #E8F0FE;\n",
              "      --fill-color: #1967D2;\n",
              "      --hover-bg-color: #E2EBFA;\n",
              "      --hover-fill-color: #174EA6;\n",
              "      --disabled-fill-color: #AAA;\n",
              "      --disabled-bg-color: #DDD;\n",
              "  }\n",
              "\n",
              "  [theme=dark] .colab-df-quickchart {\n",
              "      --bg-color: #3B4455;\n",
              "      --fill-color: #D2E3FC;\n",
              "      --hover-bg-color: #434B5C;\n",
              "      --hover-fill-color: #FFFFFF;\n",
              "      --disabled-bg-color: #3B4455;\n",
              "      --disabled-fill-color: #666;\n",
              "  }\n",
              "\n",
              "  .colab-df-quickchart {\n",
              "    background-color: var(--bg-color);\n",
              "    border: none;\n",
              "    border-radius: 50%;\n",
              "    cursor: pointer;\n",
              "    display: none;\n",
              "    fill: var(--fill-color);\n",
              "    height: 32px;\n",
              "    padding: 0;\n",
              "    width: 32px;\n",
              "  }\n",
              "\n",
              "  .colab-df-quickchart:hover {\n",
              "    background-color: var(--hover-bg-color);\n",
              "    box-shadow: 0 1px 2px rgba(60, 64, 67, 0.3), 0 1px 3px 1px rgba(60, 64, 67, 0.15);\n",
              "    fill: var(--button-hover-fill-color);\n",
              "  }\n",
              "\n",
              "  .colab-df-quickchart-complete:disabled,\n",
              "  .colab-df-quickchart-complete:disabled:hover {\n",
              "    background-color: var(--disabled-bg-color);\n",
              "    fill: var(--disabled-fill-color);\n",
              "    box-shadow: none;\n",
              "  }\n",
              "\n",
              "  .colab-df-spinner {\n",
              "    border: 2px solid var(--fill-color);\n",
              "    border-color: transparent;\n",
              "    border-bottom-color: var(--fill-color);\n",
              "    animation:\n",
              "      spin 1s steps(1) infinite;\n",
              "  }\n",
              "\n",
              "  @keyframes spin {\n",
              "    0% {\n",
              "      border-color: transparent;\n",
              "      border-bottom-color: var(--fill-color);\n",
              "      border-left-color: var(--fill-color);\n",
              "    }\n",
              "    20% {\n",
              "      border-color: transparent;\n",
              "      border-left-color: var(--fill-color);\n",
              "      border-top-color: var(--fill-color);\n",
              "    }\n",
              "    30% {\n",
              "      border-color: transparent;\n",
              "      border-left-color: var(--fill-color);\n",
              "      border-top-color: var(--fill-color);\n",
              "      border-right-color: var(--fill-color);\n",
              "    }\n",
              "    40% {\n",
              "      border-color: transparent;\n",
              "      border-right-color: var(--fill-color);\n",
              "      border-top-color: var(--fill-color);\n",
              "    }\n",
              "    60% {\n",
              "      border-color: transparent;\n",
              "      border-right-color: var(--fill-color);\n",
              "    }\n",
              "    80% {\n",
              "      border-color: transparent;\n",
              "      border-right-color: var(--fill-color);\n",
              "      border-bottom-color: var(--fill-color);\n",
              "    }\n",
              "    90% {\n",
              "      border-color: transparent;\n",
              "      border-bottom-color: var(--fill-color);\n",
              "    }\n",
              "  }\n",
              "</style>\n",
              "\n",
              "  <script>\n",
              "    async function quickchart(key) {\n",
              "      const quickchartButtonEl =\n",
              "        document.querySelector('#' + key + ' button');\n",
              "      quickchartButtonEl.disabled = true;  // To prevent multiple clicks.\n",
              "      quickchartButtonEl.classList.add('colab-df-spinner');\n",
              "      try {\n",
              "        const charts = await google.colab.kernel.invokeFunction(\n",
              "            'suggestCharts', [key], {});\n",
              "      } catch (error) {\n",
              "        console.error('Error during call to suggestCharts:', error);\n",
              "      }\n",
              "      quickchartButtonEl.classList.remove('colab-df-spinner');\n",
              "      quickchartButtonEl.classList.add('colab-df-quickchart-complete');\n",
              "    }\n",
              "    (() => {\n",
              "      let quickchartButtonEl =\n",
              "        document.querySelector('#df-29a6c891-d373-4ebb-9a7c-c85d80fc48ba button');\n",
              "      quickchartButtonEl.style.display =\n",
              "        google.colab.kernel.accessAllowed ? 'block' : 'none';\n",
              "    })();\n",
              "  </script>\n",
              "</div>\n",
              "    </div>\n",
              "  </div>\n"
            ]
          },
          "metadata": {},
          "execution_count": 209
        }
      ],
      "source": [
        "# Importing and printing the dataset\n",
        "data2 = pd.read_csv(\"Assignmnet2_Question2.csv\", delimiter=';')\n",
        "eda_data = data2\n",
        "data2.head()"
      ],
      "metadata": {
        "pycharm": {
          "name": "#%%\n"
        },
        "id": "-QXLO8sMhYFf",
        "colab": {
          "base_uri": "https://localhost:8080/",
          "height": 255
        },
        "outputId": "149fb956-49b0-424d-b1eb-0eb1b945dd87"
      },
      "id": "-QXLO8sMhYFf"
    },
    {
      "cell_type": "code",
      "source": [
        "# View the Data distribution\n",
        "data2.describe()"
      ],
      "metadata": {
        "colab": {
          "base_uri": "https://localhost:8080/",
          "height": 349
        },
        "id": "u8RnO2_uVWtU",
        "outputId": "f154bcea-bac9-442f-dba3-9ddfbaf60c7f"
      },
      "id": "u8RnO2_uVWtU",
      "execution_count": null,
      "outputs": [
        {
          "output_type": "execute_result",
          "data": {
            "text/plain": [
              "                 ID   Year_Birth         Income      Kidhome     Teenhome  \\\n",
              "count   2240.000000  2240.000000    2216.000000  2240.000000  2240.000000   \n",
              "mean    5592.159821  1968.805804   52247.251354     0.444196     0.506250   \n",
              "std     3246.662198    11.984069   25173.076661     0.538398     0.544538   \n",
              "min        0.000000  1893.000000    1730.000000     0.000000     0.000000   \n",
              "25%     2828.250000  1959.000000   35303.000000     0.000000     0.000000   \n",
              "50%     5458.500000  1970.000000   51381.500000     0.000000     0.000000   \n",
              "75%     8427.750000  1977.000000   68522.000000     1.000000     1.000000   \n",
              "max    11191.000000  1996.000000  666666.000000     2.000000     2.000000   \n",
              "\n",
              "           Recency     MntWines    MntFruits  MntMeatProducts  \\\n",
              "count  2240.000000  2240.000000  2240.000000      2240.000000   \n",
              "mean     49.109375   303.935714    26.302232       166.950000   \n",
              "std      28.962453   336.597393    39.773434       225.715373   \n",
              "min       0.000000     0.000000     0.000000         0.000000   \n",
              "25%      24.000000    23.750000     1.000000        16.000000   \n",
              "50%      49.000000   173.500000     8.000000        67.000000   \n",
              "75%      74.000000   504.250000    33.000000       232.000000   \n",
              "max      99.000000  1493.000000   199.000000      1725.000000   \n",
              "\n",
              "       MntFishProducts  ...  NumWebVisitsMonth  AcceptedCmp3  AcceptedCmp4  \\\n",
              "count      2240.000000  ...        2240.000000   2240.000000   2240.000000   \n",
              "mean         37.525446  ...           5.316518      0.072768      0.074554   \n",
              "std          54.628979  ...           2.426645      0.259813      0.262728   \n",
              "min           0.000000  ...           0.000000      0.000000      0.000000   \n",
              "25%           3.000000  ...           3.000000      0.000000      0.000000   \n",
              "50%          12.000000  ...           6.000000      0.000000      0.000000   \n",
              "75%          50.000000  ...           7.000000      0.000000      0.000000   \n",
              "max         259.000000  ...          20.000000      1.000000      1.000000   \n",
              "\n",
              "       AcceptedCmp5  AcceptedCmp1  AcceptedCmp2     Complain  Z_CostContact  \\\n",
              "count   2240.000000   2240.000000   2240.000000  2240.000000         2240.0   \n",
              "mean       0.072768      0.064286      0.013393     0.009375            3.0   \n",
              "std        0.259813      0.245316      0.114976     0.096391            0.0   \n",
              "min        0.000000      0.000000      0.000000     0.000000            3.0   \n",
              "25%        0.000000      0.000000      0.000000     0.000000            3.0   \n",
              "50%        0.000000      0.000000      0.000000     0.000000            3.0   \n",
              "75%        0.000000      0.000000      0.000000     0.000000            3.0   \n",
              "max        1.000000      1.000000      1.000000     1.000000            3.0   \n",
              "\n",
              "       Z_Revenue     Response  \n",
              "count     2240.0  2240.000000  \n",
              "mean        11.0     0.149107  \n",
              "std          0.0     0.356274  \n",
              "min         11.0     0.000000  \n",
              "25%         11.0     0.000000  \n",
              "50%         11.0     0.000000  \n",
              "75%         11.0     0.000000  \n",
              "max         11.0     1.000000  \n",
              "\n",
              "[8 rows x 26 columns]"
            ],
            "text/html": [
              "\n",
              "  <div id=\"df-0d8a154d-0a6d-4831-90b7-259807dcb68e\" class=\"colab-df-container\">\n",
              "    <div>\n",
              "<style scoped>\n",
              "    .dataframe tbody tr th:only-of-type {\n",
              "        vertical-align: middle;\n",
              "    }\n",
              "\n",
              "    .dataframe tbody tr th {\n",
              "        vertical-align: top;\n",
              "    }\n",
              "\n",
              "    .dataframe thead th {\n",
              "        text-align: right;\n",
              "    }\n",
              "</style>\n",
              "<table border=\"1\" class=\"dataframe\">\n",
              "  <thead>\n",
              "    <tr style=\"text-align: right;\">\n",
              "      <th></th>\n",
              "      <th>ID</th>\n",
              "      <th>Year_Birth</th>\n",
              "      <th>Income</th>\n",
              "      <th>Kidhome</th>\n",
              "      <th>Teenhome</th>\n",
              "      <th>Recency</th>\n",
              "      <th>MntWines</th>\n",
              "      <th>MntFruits</th>\n",
              "      <th>MntMeatProducts</th>\n",
              "      <th>MntFishProducts</th>\n",
              "      <th>...</th>\n",
              "      <th>NumWebVisitsMonth</th>\n",
              "      <th>AcceptedCmp3</th>\n",
              "      <th>AcceptedCmp4</th>\n",
              "      <th>AcceptedCmp5</th>\n",
              "      <th>AcceptedCmp1</th>\n",
              "      <th>AcceptedCmp2</th>\n",
              "      <th>Complain</th>\n",
              "      <th>Z_CostContact</th>\n",
              "      <th>Z_Revenue</th>\n",
              "      <th>Response</th>\n",
              "    </tr>\n",
              "  </thead>\n",
              "  <tbody>\n",
              "    <tr>\n",
              "      <th>count</th>\n",
              "      <td>2240.000000</td>\n",
              "      <td>2240.000000</td>\n",
              "      <td>2216.000000</td>\n",
              "      <td>2240.000000</td>\n",
              "      <td>2240.000000</td>\n",
              "      <td>2240.000000</td>\n",
              "      <td>2240.000000</td>\n",
              "      <td>2240.000000</td>\n",
              "      <td>2240.000000</td>\n",
              "      <td>2240.000000</td>\n",
              "      <td>...</td>\n",
              "      <td>2240.000000</td>\n",
              "      <td>2240.000000</td>\n",
              "      <td>2240.000000</td>\n",
              "      <td>2240.000000</td>\n",
              "      <td>2240.000000</td>\n",
              "      <td>2240.000000</td>\n",
              "      <td>2240.000000</td>\n",
              "      <td>2240.0</td>\n",
              "      <td>2240.0</td>\n",
              "      <td>2240.000000</td>\n",
              "    </tr>\n",
              "    <tr>\n",
              "      <th>mean</th>\n",
              "      <td>5592.159821</td>\n",
              "      <td>1968.805804</td>\n",
              "      <td>52247.251354</td>\n",
              "      <td>0.444196</td>\n",
              "      <td>0.506250</td>\n",
              "      <td>49.109375</td>\n",
              "      <td>303.935714</td>\n",
              "      <td>26.302232</td>\n",
              "      <td>166.950000</td>\n",
              "      <td>37.525446</td>\n",
              "      <td>...</td>\n",
              "      <td>5.316518</td>\n",
              "      <td>0.072768</td>\n",
              "      <td>0.074554</td>\n",
              "      <td>0.072768</td>\n",
              "      <td>0.064286</td>\n",
              "      <td>0.013393</td>\n",
              "      <td>0.009375</td>\n",
              "      <td>3.0</td>\n",
              "      <td>11.0</td>\n",
              "      <td>0.149107</td>\n",
              "    </tr>\n",
              "    <tr>\n",
              "      <th>std</th>\n",
              "      <td>3246.662198</td>\n",
              "      <td>11.984069</td>\n",
              "      <td>25173.076661</td>\n",
              "      <td>0.538398</td>\n",
              "      <td>0.544538</td>\n",
              "      <td>28.962453</td>\n",
              "      <td>336.597393</td>\n",
              "      <td>39.773434</td>\n",
              "      <td>225.715373</td>\n",
              "      <td>54.628979</td>\n",
              "      <td>...</td>\n",
              "      <td>2.426645</td>\n",
              "      <td>0.259813</td>\n",
              "      <td>0.262728</td>\n",
              "      <td>0.259813</td>\n",
              "      <td>0.245316</td>\n",
              "      <td>0.114976</td>\n",
              "      <td>0.096391</td>\n",
              "      <td>0.0</td>\n",
              "      <td>0.0</td>\n",
              "      <td>0.356274</td>\n",
              "    </tr>\n",
              "    <tr>\n",
              "      <th>min</th>\n",
              "      <td>0.000000</td>\n",
              "      <td>1893.000000</td>\n",
              "      <td>1730.000000</td>\n",
              "      <td>0.000000</td>\n",
              "      <td>0.000000</td>\n",
              "      <td>0.000000</td>\n",
              "      <td>0.000000</td>\n",
              "      <td>0.000000</td>\n",
              "      <td>0.000000</td>\n",
              "      <td>0.000000</td>\n",
              "      <td>...</td>\n",
              "      <td>0.000000</td>\n",
              "      <td>0.000000</td>\n",
              "      <td>0.000000</td>\n",
              "      <td>0.000000</td>\n",
              "      <td>0.000000</td>\n",
              "      <td>0.000000</td>\n",
              "      <td>0.000000</td>\n",
              "      <td>3.0</td>\n",
              "      <td>11.0</td>\n",
              "      <td>0.000000</td>\n",
              "    </tr>\n",
              "    <tr>\n",
              "      <th>25%</th>\n",
              "      <td>2828.250000</td>\n",
              "      <td>1959.000000</td>\n",
              "      <td>35303.000000</td>\n",
              "      <td>0.000000</td>\n",
              "      <td>0.000000</td>\n",
              "      <td>24.000000</td>\n",
              "      <td>23.750000</td>\n",
              "      <td>1.000000</td>\n",
              "      <td>16.000000</td>\n",
              "      <td>3.000000</td>\n",
              "      <td>...</td>\n",
              "      <td>3.000000</td>\n",
              "      <td>0.000000</td>\n",
              "      <td>0.000000</td>\n",
              "      <td>0.000000</td>\n",
              "      <td>0.000000</td>\n",
              "      <td>0.000000</td>\n",
              "      <td>0.000000</td>\n",
              "      <td>3.0</td>\n",
              "      <td>11.0</td>\n",
              "      <td>0.000000</td>\n",
              "    </tr>\n",
              "    <tr>\n",
              "      <th>50%</th>\n",
              "      <td>5458.500000</td>\n",
              "      <td>1970.000000</td>\n",
              "      <td>51381.500000</td>\n",
              "      <td>0.000000</td>\n",
              "      <td>0.000000</td>\n",
              "      <td>49.000000</td>\n",
              "      <td>173.500000</td>\n",
              "      <td>8.000000</td>\n",
              "      <td>67.000000</td>\n",
              "      <td>12.000000</td>\n",
              "      <td>...</td>\n",
              "      <td>6.000000</td>\n",
              "      <td>0.000000</td>\n",
              "      <td>0.000000</td>\n",
              "      <td>0.000000</td>\n",
              "      <td>0.000000</td>\n",
              "      <td>0.000000</td>\n",
              "      <td>0.000000</td>\n",
              "      <td>3.0</td>\n",
              "      <td>11.0</td>\n",
              "      <td>0.000000</td>\n",
              "    </tr>\n",
              "    <tr>\n",
              "      <th>75%</th>\n",
              "      <td>8427.750000</td>\n",
              "      <td>1977.000000</td>\n",
              "      <td>68522.000000</td>\n",
              "      <td>1.000000</td>\n",
              "      <td>1.000000</td>\n",
              "      <td>74.000000</td>\n",
              "      <td>504.250000</td>\n",
              "      <td>33.000000</td>\n",
              "      <td>232.000000</td>\n",
              "      <td>50.000000</td>\n",
              "      <td>...</td>\n",
              "      <td>7.000000</td>\n",
              "      <td>0.000000</td>\n",
              "      <td>0.000000</td>\n",
              "      <td>0.000000</td>\n",
              "      <td>0.000000</td>\n",
              "      <td>0.000000</td>\n",
              "      <td>0.000000</td>\n",
              "      <td>3.0</td>\n",
              "      <td>11.0</td>\n",
              "      <td>0.000000</td>\n",
              "    </tr>\n",
              "    <tr>\n",
              "      <th>max</th>\n",
              "      <td>11191.000000</td>\n",
              "      <td>1996.000000</td>\n",
              "      <td>666666.000000</td>\n",
              "      <td>2.000000</td>\n",
              "      <td>2.000000</td>\n",
              "      <td>99.000000</td>\n",
              "      <td>1493.000000</td>\n",
              "      <td>199.000000</td>\n",
              "      <td>1725.000000</td>\n",
              "      <td>259.000000</td>\n",
              "      <td>...</td>\n",
              "      <td>20.000000</td>\n",
              "      <td>1.000000</td>\n",
              "      <td>1.000000</td>\n",
              "      <td>1.000000</td>\n",
              "      <td>1.000000</td>\n",
              "      <td>1.000000</td>\n",
              "      <td>1.000000</td>\n",
              "      <td>3.0</td>\n",
              "      <td>11.0</td>\n",
              "      <td>1.000000</td>\n",
              "    </tr>\n",
              "  </tbody>\n",
              "</table>\n",
              "<p>8 rows × 26 columns</p>\n",
              "</div>\n",
              "    <div class=\"colab-df-buttons\">\n",
              "\n",
              "  <div class=\"colab-df-container\">\n",
              "    <button class=\"colab-df-convert\" onclick=\"convertToInteractive('df-0d8a154d-0a6d-4831-90b7-259807dcb68e')\"\n",
              "            title=\"Convert this dataframe to an interactive table.\"\n",
              "            style=\"display:none;\">\n",
              "\n",
              "  <svg xmlns=\"http://www.w3.org/2000/svg\" height=\"24px\" viewBox=\"0 -960 960 960\">\n",
              "    <path d=\"M120-120v-720h720v720H120Zm60-500h600v-160H180v160Zm220 220h160v-160H400v160Zm0 220h160v-160H400v160ZM180-400h160v-160H180v160Zm440 0h160v-160H620v160ZM180-180h160v-160H180v160Zm440 0h160v-160H620v160Z\"/>\n",
              "  </svg>\n",
              "    </button>\n",
              "\n",
              "  <style>\n",
              "    .colab-df-container {\n",
              "      display:flex;\n",
              "      gap: 12px;\n",
              "    }\n",
              "\n",
              "    .colab-df-convert {\n",
              "      background-color: #E8F0FE;\n",
              "      border: none;\n",
              "      border-radius: 50%;\n",
              "      cursor: pointer;\n",
              "      display: none;\n",
              "      fill: #1967D2;\n",
              "      height: 32px;\n",
              "      padding: 0 0 0 0;\n",
              "      width: 32px;\n",
              "    }\n",
              "\n",
              "    .colab-df-convert:hover {\n",
              "      background-color: #E2EBFA;\n",
              "      box-shadow: 0px 1px 2px rgba(60, 64, 67, 0.3), 0px 1px 3px 1px rgba(60, 64, 67, 0.15);\n",
              "      fill: #174EA6;\n",
              "    }\n",
              "\n",
              "    .colab-df-buttons div {\n",
              "      margin-bottom: 4px;\n",
              "    }\n",
              "\n",
              "    [theme=dark] .colab-df-convert {\n",
              "      background-color: #3B4455;\n",
              "      fill: #D2E3FC;\n",
              "    }\n",
              "\n",
              "    [theme=dark] .colab-df-convert:hover {\n",
              "      background-color: #434B5C;\n",
              "      box-shadow: 0px 1px 3px 1px rgba(0, 0, 0, 0.15);\n",
              "      filter: drop-shadow(0px 1px 2px rgba(0, 0, 0, 0.3));\n",
              "      fill: #FFFFFF;\n",
              "    }\n",
              "  </style>\n",
              "\n",
              "    <script>\n",
              "      const buttonEl =\n",
              "        document.querySelector('#df-0d8a154d-0a6d-4831-90b7-259807dcb68e button.colab-df-convert');\n",
              "      buttonEl.style.display =\n",
              "        google.colab.kernel.accessAllowed ? 'block' : 'none';\n",
              "\n",
              "      async function convertToInteractive(key) {\n",
              "        const element = document.querySelector('#df-0d8a154d-0a6d-4831-90b7-259807dcb68e');\n",
              "        const dataTable =\n",
              "          await google.colab.kernel.invokeFunction('convertToInteractive',\n",
              "                                                    [key], {});\n",
              "        if (!dataTable) return;\n",
              "\n",
              "        const docLinkHtml = 'Like what you see? Visit the ' +\n",
              "          '<a target=\"_blank\" href=https://colab.research.google.com/notebooks/data_table.ipynb>data table notebook</a>'\n",
              "          + ' to learn more about interactive tables.';\n",
              "        element.innerHTML = '';\n",
              "        dataTable['output_type'] = 'display_data';\n",
              "        await google.colab.output.renderOutput(dataTable, element);\n",
              "        const docLink = document.createElement('div');\n",
              "        docLink.innerHTML = docLinkHtml;\n",
              "        element.appendChild(docLink);\n",
              "      }\n",
              "    </script>\n",
              "  </div>\n",
              "\n",
              "\n",
              "<div id=\"df-d6116004-b81b-4b7c-8e9c-dfb4c6e67585\">\n",
              "  <button class=\"colab-df-quickchart\" onclick=\"quickchart('df-d6116004-b81b-4b7c-8e9c-dfb4c6e67585')\"\n",
              "            title=\"Suggest charts.\"\n",
              "            style=\"display:none;\">\n",
              "\n",
              "<svg xmlns=\"http://www.w3.org/2000/svg\" height=\"24px\"viewBox=\"0 0 24 24\"\n",
              "     width=\"24px\">\n",
              "    <g>\n",
              "        <path d=\"M19 3H5c-1.1 0-2 .9-2 2v14c0 1.1.9 2 2 2h14c1.1 0 2-.9 2-2V5c0-1.1-.9-2-2-2zM9 17H7v-7h2v7zm4 0h-2V7h2v10zm4 0h-2v-4h2v4z\"/>\n",
              "    </g>\n",
              "</svg>\n",
              "  </button>\n",
              "\n",
              "<style>\n",
              "  .colab-df-quickchart {\n",
              "      --bg-color: #E8F0FE;\n",
              "      --fill-color: #1967D2;\n",
              "      --hover-bg-color: #E2EBFA;\n",
              "      --hover-fill-color: #174EA6;\n",
              "      --disabled-fill-color: #AAA;\n",
              "      --disabled-bg-color: #DDD;\n",
              "  }\n",
              "\n",
              "  [theme=dark] .colab-df-quickchart {\n",
              "      --bg-color: #3B4455;\n",
              "      --fill-color: #D2E3FC;\n",
              "      --hover-bg-color: #434B5C;\n",
              "      --hover-fill-color: #FFFFFF;\n",
              "      --disabled-bg-color: #3B4455;\n",
              "      --disabled-fill-color: #666;\n",
              "  }\n",
              "\n",
              "  .colab-df-quickchart {\n",
              "    background-color: var(--bg-color);\n",
              "    border: none;\n",
              "    border-radius: 50%;\n",
              "    cursor: pointer;\n",
              "    display: none;\n",
              "    fill: var(--fill-color);\n",
              "    height: 32px;\n",
              "    padding: 0;\n",
              "    width: 32px;\n",
              "  }\n",
              "\n",
              "  .colab-df-quickchart:hover {\n",
              "    background-color: var(--hover-bg-color);\n",
              "    box-shadow: 0 1px 2px rgba(60, 64, 67, 0.3), 0 1px 3px 1px rgba(60, 64, 67, 0.15);\n",
              "    fill: var(--button-hover-fill-color);\n",
              "  }\n",
              "\n",
              "  .colab-df-quickchart-complete:disabled,\n",
              "  .colab-df-quickchart-complete:disabled:hover {\n",
              "    background-color: var(--disabled-bg-color);\n",
              "    fill: var(--disabled-fill-color);\n",
              "    box-shadow: none;\n",
              "  }\n",
              "\n",
              "  .colab-df-spinner {\n",
              "    border: 2px solid var(--fill-color);\n",
              "    border-color: transparent;\n",
              "    border-bottom-color: var(--fill-color);\n",
              "    animation:\n",
              "      spin 1s steps(1) infinite;\n",
              "  }\n",
              "\n",
              "  @keyframes spin {\n",
              "    0% {\n",
              "      border-color: transparent;\n",
              "      border-bottom-color: var(--fill-color);\n",
              "      border-left-color: var(--fill-color);\n",
              "    }\n",
              "    20% {\n",
              "      border-color: transparent;\n",
              "      border-left-color: var(--fill-color);\n",
              "      border-top-color: var(--fill-color);\n",
              "    }\n",
              "    30% {\n",
              "      border-color: transparent;\n",
              "      border-left-color: var(--fill-color);\n",
              "      border-top-color: var(--fill-color);\n",
              "      border-right-color: var(--fill-color);\n",
              "    }\n",
              "    40% {\n",
              "      border-color: transparent;\n",
              "      border-right-color: var(--fill-color);\n",
              "      border-top-color: var(--fill-color);\n",
              "    }\n",
              "    60% {\n",
              "      border-color: transparent;\n",
              "      border-right-color: var(--fill-color);\n",
              "    }\n",
              "    80% {\n",
              "      border-color: transparent;\n",
              "      border-right-color: var(--fill-color);\n",
              "      border-bottom-color: var(--fill-color);\n",
              "    }\n",
              "    90% {\n",
              "      border-color: transparent;\n",
              "      border-bottom-color: var(--fill-color);\n",
              "    }\n",
              "  }\n",
              "</style>\n",
              "\n",
              "  <script>\n",
              "    async function quickchart(key) {\n",
              "      const quickchartButtonEl =\n",
              "        document.querySelector('#' + key + ' button');\n",
              "      quickchartButtonEl.disabled = true;  // To prevent multiple clicks.\n",
              "      quickchartButtonEl.classList.add('colab-df-spinner');\n",
              "      try {\n",
              "        const charts = await google.colab.kernel.invokeFunction(\n",
              "            'suggestCharts', [key], {});\n",
              "      } catch (error) {\n",
              "        console.error('Error during call to suggestCharts:', error);\n",
              "      }\n",
              "      quickchartButtonEl.classList.remove('colab-df-spinner');\n",
              "      quickchartButtonEl.classList.add('colab-df-quickchart-complete');\n",
              "    }\n",
              "    (() => {\n",
              "      let quickchartButtonEl =\n",
              "        document.querySelector('#df-d6116004-b81b-4b7c-8e9c-dfb4c6e67585 button');\n",
              "      quickchartButtonEl.style.display =\n",
              "        google.colab.kernel.accessAllowed ? 'block' : 'none';\n",
              "    })();\n",
              "  </script>\n",
              "</div>\n",
              "    </div>\n",
              "  </div>\n"
            ]
          },
          "metadata": {},
          "execution_count": 210
        }
      ]
    },
    {
      "cell_type": "code",
      "source": [
        "# Exploring the variables\n",
        "data2.info()"
      ],
      "metadata": {
        "colab": {
          "base_uri": "https://localhost:8080/"
        },
        "id": "dtTyRK0YCZaV",
        "outputId": "8d314da9-2359-4f02-e234-fa9f7474d898"
      },
      "id": "dtTyRK0YCZaV",
      "execution_count": null,
      "outputs": [
        {
          "output_type": "stream",
          "name": "stdout",
          "text": [
            "<class 'pandas.core.frame.DataFrame'>\n",
            "RangeIndex: 2240 entries, 0 to 2239\n",
            "Data columns (total 29 columns):\n",
            " #   Column               Non-Null Count  Dtype  \n",
            "---  ------               --------------  -----  \n",
            " 0   ID                   2240 non-null   int64  \n",
            " 1   Year_Birth           2240 non-null   int64  \n",
            " 2   Education            2240 non-null   object \n",
            " 3   Marital_Status       2240 non-null   object \n",
            " 4   Income               2216 non-null   float64\n",
            " 5   Kidhome              2240 non-null   int64  \n",
            " 6   Teenhome             2240 non-null   int64  \n",
            " 7   Dt_Customer          2240 non-null   object \n",
            " 8   Recency              2240 non-null   int64  \n",
            " 9   MntWines             2240 non-null   int64  \n",
            " 10  MntFruits            2240 non-null   int64  \n",
            " 11  MntMeatProducts      2240 non-null   int64  \n",
            " 12  MntFishProducts      2240 non-null   int64  \n",
            " 13  MntSweetProducts     2240 non-null   int64  \n",
            " 14  MntGoldProds         2240 non-null   int64  \n",
            " 15  NumDealsPurchases    2240 non-null   int64  \n",
            " 16  NumWebPurchases      2240 non-null   int64  \n",
            " 17  NumCatalogPurchases  2240 non-null   int64  \n",
            " 18  NumStorePurchases    2240 non-null   int64  \n",
            " 19  NumWebVisitsMonth    2240 non-null   int64  \n",
            " 20  AcceptedCmp3         2240 non-null   int64  \n",
            " 21  AcceptedCmp4         2240 non-null   int64  \n",
            " 22  AcceptedCmp5         2240 non-null   int64  \n",
            " 23  AcceptedCmp1         2240 non-null   int64  \n",
            " 24  AcceptedCmp2         2240 non-null   int64  \n",
            " 25  Complain             2240 non-null   int64  \n",
            " 26  Z_CostContact        2240 non-null   int64  \n",
            " 27  Z_Revenue            2240 non-null   int64  \n",
            " 28  Response             2240 non-null   int64  \n",
            "dtypes: float64(1), int64(25), object(3)\n",
            "memory usage: 507.6+ KB\n"
          ]
        }
      ]
    },
    {
      "cell_type": "code",
      "source": [
        "# Checking for Null values\n",
        "data2.isnull().sum()\n",
        "# Filling missing values with 0 for Income column\n",
        "data2['Income'].fillna(data2['Income'].median(), inplace = True)\n",
        "data2.isnull().sum()"
      ],
      "metadata": {
        "colab": {
          "base_uri": "https://localhost:8080/"
        },
        "id": "RzzzwG3Jcq9H",
        "outputId": "93097ff7-dbe6-4d63-ed3d-0a1f64071647"
      },
      "id": "RzzzwG3Jcq9H",
      "execution_count": null,
      "outputs": [
        {
          "output_type": "execute_result",
          "data": {
            "text/plain": [
              "ID                     0\n",
              "Year_Birth             0\n",
              "Education              0\n",
              "Marital_Status         0\n",
              "Income                 0\n",
              "Kidhome                0\n",
              "Teenhome               0\n",
              "Dt_Customer            0\n",
              "Recency                0\n",
              "MntWines               0\n",
              "MntFruits              0\n",
              "MntMeatProducts        0\n",
              "MntFishProducts        0\n",
              "MntSweetProducts       0\n",
              "MntGoldProds           0\n",
              "NumDealsPurchases      0\n",
              "NumWebPurchases        0\n",
              "NumCatalogPurchases    0\n",
              "NumStorePurchases      0\n",
              "NumWebVisitsMonth      0\n",
              "AcceptedCmp3           0\n",
              "AcceptedCmp4           0\n",
              "AcceptedCmp5           0\n",
              "AcceptedCmp1           0\n",
              "AcceptedCmp2           0\n",
              "Complain               0\n",
              "Z_CostContact          0\n",
              "Z_Revenue              0\n",
              "Response               0\n",
              "dtype: int64"
            ]
          },
          "metadata": {},
          "execution_count": 212
        }
      ]
    },
    {
      "cell_type": "code",
      "source": [
        "# Looking into the object column type\n",
        "data2.iloc[:,7].unique()\n",
        "data2.iloc[:,2].unique()\n",
        "data2.iloc[:,3].unique()\n",
        "\n",
        "# Transforming Dt_Customer to year column and dropping Dt_Customer\n",
        "data2['Year'] = pd.to_datetime(data2['Dt_Customer']).dt.year\n",
        "data2 = data2.drop('Dt_Customer', axis=1)"
      ],
      "metadata": {
        "id": "30EQjy4oTj-U"
      },
      "id": "30EQjy4oTj-U",
      "execution_count": null,
      "outputs": []
    },
    {
      "cell_type": "code",
      "source": [
        "data2.info()"
      ],
      "metadata": {
        "colab": {
          "base_uri": "https://localhost:8080/"
        },
        "id": "ek4Wp6GqKH-J",
        "outputId": "346eadee-7e53-4e42-8bed-f5caf2053463"
      },
      "id": "ek4Wp6GqKH-J",
      "execution_count": null,
      "outputs": [
        {
          "output_type": "stream",
          "name": "stdout",
          "text": [
            "<class 'pandas.core.frame.DataFrame'>\n",
            "RangeIndex: 2240 entries, 0 to 2239\n",
            "Data columns (total 29 columns):\n",
            " #   Column               Non-Null Count  Dtype  \n",
            "---  ------               --------------  -----  \n",
            " 0   ID                   2240 non-null   int64  \n",
            " 1   Year_Birth           2240 non-null   int64  \n",
            " 2   Education            2240 non-null   object \n",
            " 3   Marital_Status       2240 non-null   object \n",
            " 4   Income               2240 non-null   float64\n",
            " 5   Kidhome              2240 non-null   int64  \n",
            " 6   Teenhome             2240 non-null   int64  \n",
            " 7   Recency              2240 non-null   int64  \n",
            " 8   MntWines             2240 non-null   int64  \n",
            " 9   MntFruits            2240 non-null   int64  \n",
            " 10  MntMeatProducts      2240 non-null   int64  \n",
            " 11  MntFishProducts      2240 non-null   int64  \n",
            " 12  MntSweetProducts     2240 non-null   int64  \n",
            " 13  MntGoldProds         2240 non-null   int64  \n",
            " 14  NumDealsPurchases    2240 non-null   int64  \n",
            " 15  NumWebPurchases      2240 non-null   int64  \n",
            " 16  NumCatalogPurchases  2240 non-null   int64  \n",
            " 17  NumStorePurchases    2240 non-null   int64  \n",
            " 18  NumWebVisitsMonth    2240 non-null   int64  \n",
            " 19  AcceptedCmp3         2240 non-null   int64  \n",
            " 20  AcceptedCmp4         2240 non-null   int64  \n",
            " 21  AcceptedCmp5         2240 non-null   int64  \n",
            " 22  AcceptedCmp1         2240 non-null   int64  \n",
            " 23  AcceptedCmp2         2240 non-null   int64  \n",
            " 24  Complain             2240 non-null   int64  \n",
            " 25  Z_CostContact        2240 non-null   int64  \n",
            " 26  Z_Revenue            2240 non-null   int64  \n",
            " 27  Response             2240 non-null   int64  \n",
            " 28  Year                 2240 non-null   int64  \n",
            "dtypes: float64(1), int64(26), object(2)\n",
            "memory usage: 507.6+ KB\n"
          ]
        }
      ]
    },
    {
      "cell_type": "code",
      "source": [
        "# Assigning other categorical columns as categorical for further transformation\n",
        "c_columns = data2.select_dtypes(include=['object']).columns.tolist()\n",
        "# Printing categorical columns\n",
        "c_columns"
      ],
      "metadata": {
        "colab": {
          "base_uri": "https://localhost:8080/"
        },
        "id": "kKZQfiP_J5te",
        "outputId": "c40be706-31d4-46db-f8a6-c6373d16e027"
      },
      "id": "kKZQfiP_J5te",
      "execution_count": null,
      "outputs": [
        {
          "output_type": "execute_result",
          "data": {
            "text/plain": [
              "['Education', 'Marital_Status']"
            ]
          },
          "metadata": {},
          "execution_count": 215
        }
      ]
    },
    {
      "cell_type": "code",
      "source": [
        "# Assigning numerical columns for further transformation\n",
        "n_columns = data2.select_dtypes(include=['int64', 'float64']).columns.tolist()\n",
        "# Dropping response and ID varaible\n",
        "n_columns.remove('Response')\n",
        "n_columns.remove('ID')"
      ],
      "metadata": {
        "id": "gscOc1_WP3vg"
      },
      "id": "gscOc1_WP3vg",
      "execution_count": null,
      "outputs": []
    },
    {
      "cell_type": "code",
      "source": [
        "# Scaling numerical columns and encoding categorical columns\n",
        "n_tranformer = Pipeline(steps=[('scaler', StandardScaler())])\n",
        "c_tranformer = Pipeline(steps=[('onehot', OneHotEncoder(handle_unknown='ignore'))])\n",
        "\n",
        "# Preprocessor\n",
        "pp = ColumnTransformer(\n",
        "    transformers=[\n",
        "        ('numeric', n_tranformer, n_columns),\n",
        "        ('categorical', c_tranformer, c_columns)\n",
        "    ])\n"
      ],
      "metadata": {
        "id": "WlFOGOi3GXow"
      },
      "id": "WlFOGOi3GXow",
      "execution_count": null,
      "outputs": []
    },
    {
      "cell_type": "markdown",
      "source": [
        "b. Perform EDA on data"
      ],
      "metadata": {
        "collapsed": false,
        "pycharm": {
          "name": "#%% md\n"
        },
        "id": "haAYEosAhYFf"
      },
      "id": "haAYEosAhYFf"
    },
    {
      "cell_type": "code",
      "source": [
        "# Distribution of target variable\n",
        "sns.countplot(x='Response', data=eda_data)"
      ],
      "metadata": {
        "colab": {
          "base_uri": "https://localhost:8080/",
          "height": 472
        },
        "id": "KopbBAct_q3z",
        "outputId": "7912e9a1-c9ac-4011-eddb-062744e7f7ef"
      },
      "id": "KopbBAct_q3z",
      "execution_count": null,
      "outputs": [
        {
          "output_type": "execute_result",
          "data": {
            "text/plain": [
              "<Axes: xlabel='Response', ylabel='count'>"
            ]
          },
          "metadata": {},
          "execution_count": 219
        },
        {
          "output_type": "display_data",
          "data": {
            "text/plain": [
              "<Figure size 640x480 with 1 Axes>"
            ],
            "image/png": "[encoded data removed]"
          },
          "metadata": {}
        }
      ]
    },
    {
      "cell_type": "code",
      "source": [
        "# Distribution of birth year\n",
        "sns.histplot(x='Year_Birth', data=eda_data)"
      ],
      "metadata": {
        "colab": {
          "base_uri": "https://localhost:8080/",
          "height": 467
        },
        "id": "F6IrsdBRA98Q",
        "outputId": "b98ff39f-5783-4750-b552-3fdf361d1ce9"
      },
      "id": "F6IrsdBRA98Q",
      "execution_count": null,
      "outputs": [
        {
          "output_type": "execute_result",
          "data": {
            "text/plain": [
              "<Axes: xlabel='Year_Birth', ylabel='Count'>"
            ]
          },
          "metadata": {},
          "execution_count": 220
        },
        {
          "output_type": "display_data",
          "data": {
            "text/plain": [
              "<Figure size 640x480 with 1 Axes>"
            ],
            "image/png": "[encoded data removed]"
          },
          "metadata": {}
        }
      ]
    },
    {
      "cell_type": "code",
      "source": [
        "# Distribution of Education\n",
        "sns.histplot(x='Education', data=eda_data)"
      ],
      "metadata": {
        "colab": {
          "base_uri": "https://localhost:8080/",
          "height": 466
        },
        "id": "mPITltj0BQoh",
        "outputId": "7e71aa1e-1c24-4ce4-c876-c5a5948999c8"
      },
      "id": "mPITltj0BQoh",
      "execution_count": null,
      "outputs": [
        {
          "output_type": "execute_result",
          "data": {
            "text/plain": [
              "<Axes: xlabel='Education', ylabel='Count'>"
            ]
          },
          "metadata": {},
          "execution_count": 221
        },
        {
          "output_type": "display_data",
          "data": {
            "text/plain": [
              "<Figure size 640x480 with 1 Axes>"
            ],
            "image/png": "[encoded data removed]"
          },
          "metadata": {}
        }
      ]
    },
    {
      "cell_type": "code",
      "source": [
        "# Distribution of marital status variable\n",
        "sns.countplot(x='Marital_Status', data=eda_data)"
      ],
      "metadata": {
        "colab": {
          "base_uri": "https://localhost:8080/",
          "height": 467
        },
        "id": "xkreKLQHBYWj",
        "outputId": "e723b61a-378f-48dd-e869-781f75bdf493"
      },
      "id": "xkreKLQHBYWj",
      "execution_count": null,
      "outputs": [
        {
          "output_type": "execute_result",
          "data": {
            "text/plain": [
              "<Axes: xlabel='Marital_Status', ylabel='count'>"
            ]
          },
          "metadata": {},
          "execution_count": 222
        },
        {
          "output_type": "display_data",
          "data": {
            "text/plain": [
              "<Figure size 640x480 with 1 Axes>"
            ],
            "image/png": "[encoded data removed]"
          },
          "metadata": {}
        }
      ]
    },
    {
      "cell_type": "code",
      "source": [
        "# Distribution of Income\n",
        "sns.histplot(x='Income', data=eda_data)"
      ],
      "metadata": {
        "colab": {
          "base_uri": "https://localhost:8080/",
          "height": 466
        },
        "id": "gKKU-wOmBf8e",
        "outputId": "eddd2982-61e2-433e-9344-c97114be443b"
      },
      "id": "gKKU-wOmBf8e",
      "execution_count": null,
      "outputs": [
        {
          "output_type": "execute_result",
          "data": {
            "text/plain": [
              "<Axes: xlabel='Income', ylabel='Count'>"
            ]
          },
          "metadata": {},
          "execution_count": 223
        },
        {
          "output_type": "display_data",
          "data": {
            "text/plain": [
              "<Figure size 640x480 with 1 Axes>"
            ],
            "image/png": "[encoded data removed]"
          },
          "metadata": {}
        }
      ]
    },
    {
      "cell_type": "markdown",
      "source": [
        "c. Split the data into training and testing sets."
      ],
      "metadata": {
        "collapsed": false,
        "pycharm": {
          "name": "#%% md\n"
        },
        "id": "1-AW9sDEhYFg"
      },
      "id": "1-AW9sDEhYFg"
    },
    {
      "cell_type": "code",
      "source": [
        "# Assigning target and dependent variables\n",
        "X = data2.drop(['ID','Response'],axis=1)\n",
        "y = data2['Response']"
      ],
      "metadata": {
        "id": "B3OMHZ0_a3lg"
      },
      "id": "B3OMHZ0_a3lg",
      "execution_count": null,
      "outputs": []
    },
    {
      "cell_type": "code",
      "source": [
        "print(X)"
      ],
      "metadata": {
        "colab": {
          "base_uri": "https://localhost:8080/"
        },
        "id": "z4_RWexCKjX3",
        "outputId": "c4cef567-da0e-45c7-e05a-9c5b0d47814c"
      },
      "id": "z4_RWexCKjX3",
      "execution_count": null,
      "outputs": [
        {
          "output_type": "stream",
          "name": "stdout",
          "text": [
            "      Year_Birth   Education Marital_Status   Income  Kidhome  Teenhome  \\\n",
            "0           1957  Graduation         Single  58138.0        0         0   \n",
            "1           1954  Graduation         Single  46344.0        1         1   \n",
            "2           1965  Graduation       Together  71613.0        0         0   \n",
            "3           1984  Graduation       Together  26646.0        1         0   \n",
            "4           1981         PhD        Married  58293.0        1         0   \n",
            "...          ...         ...            ...      ...      ...       ...   \n",
            "2235        1967  Graduation        Married  61223.0        0         1   \n",
            "2236        1946         PhD       Together  64014.0        2         1   \n",
            "2237        1981  Graduation       Divorced  56981.0        0         0   \n",
            "2238        1956      Master       Together  69245.0        0         1   \n",
            "2239        1954         PhD        Married  52869.0        1         1   \n",
            "\n",
            "      Recency  MntWines  MntFruits  MntMeatProducts  ...  NumWebVisitsMonth  \\\n",
            "0          58       635         88              546  ...                  7   \n",
            "1          38        11          1                6  ...                  5   \n",
            "2          26       426         49              127  ...                  4   \n",
            "3          26        11          4               20  ...                  6   \n",
            "4          94       173         43              118  ...                  5   \n",
            "...       ...       ...        ...              ...  ...                ...   \n",
            "2235       46       709         43              182  ...                  5   \n",
            "2236       56       406          0               30  ...                  7   \n",
            "2237       91       908         48              217  ...                  6   \n",
            "2238        8       428         30              214  ...                  3   \n",
            "2239       40        84          3               61  ...                  7   \n",
            "\n",
            "      AcceptedCmp3  AcceptedCmp4  AcceptedCmp5  AcceptedCmp1  AcceptedCmp2  \\\n",
            "0                0             0             0             0             0   \n",
            "1                0             0             0             0             0   \n",
            "2                0             0             0             0             0   \n",
            "3                0             0             0             0             0   \n",
            "4                0             0             0             0             0   \n",
            "...            ...           ...           ...           ...           ...   \n",
            "2235             0             0             0             0             0   \n",
            "2236             0             0             0             1             0   \n",
            "2237             0             1             0             0             0   \n",
            "2238             0             0             0             0             0   \n",
            "2239             0             0             0             0             0   \n",
            "\n",
            "      Complain  Z_CostContact  Z_Revenue  Year  \n",
            "0            0              3         11  2012  \n",
            "1            0              3         11  2014  \n",
            "2            0              3         11  2013  \n",
            "3            0              3         11  2014  \n",
            "4            0              3         11  2014  \n",
            "...        ...            ...        ...   ...  \n",
            "2235         0              3         11  2013  \n",
            "2236         0              3         11  2014  \n",
            "2237         0              3         11  2014  \n",
            "2238         0              3         11  2014  \n",
            "2239         0              3         11  2012  \n",
            "\n",
            "[2240 rows x 27 columns]\n"
          ]
        }
      ]
    },
    {
      "cell_type": "code",
      "source": [
        "print(y)"
      ],
      "metadata": {
        "colab": {
          "base_uri": "https://localhost:8080/"
        },
        "id": "BlhrcByrKmYU",
        "outputId": "b7338709-dcfe-42c5-d590-d304b0b9fbc2"
      },
      "id": "BlhrcByrKmYU",
      "execution_count": null,
      "outputs": [
        {
          "output_type": "stream",
          "name": "stdout",
          "text": [
            "0       1\n",
            "1       0\n",
            "2       0\n",
            "3       0\n",
            "4       0\n",
            "       ..\n",
            "2235    0\n",
            "2236    0\n",
            "2237    0\n",
            "2238    0\n",
            "2239    1\n",
            "Name: Response, Length: 2240, dtype: int64\n"
          ]
        }
      ]
    },
    {
      "cell_type": "code",
      "source": [
        "# Splitting the dataset between train and test sets.\n",
        "X_train, X_test, y_train, y_test = train_test_split(X, y, test_size=0.25, random_state=42)"
      ],
      "metadata": {
        "id": "AE4knYbySUoT"
      },
      "id": "AE4knYbySUoT",
      "execution_count": null,
      "outputs": []
    },
    {
      "cell_type": "markdown",
      "source": [
        "d. Train both a **Perceptron model and a Logistic Regression model** on the training data to predict customer responses to the promotional offer. (Note: Implement both the models from scratch, Don't use any pretrained model)"
      ],
      "metadata": {
        "collapsed": false,
        "pycharm": {
          "name": "#%% md\n"
        },
        "id": "WvPVSGPuhYFg"
      },
      "id": "WvPVSGPuhYFg"
    },
    {
      "cell_type": "markdown",
      "source": [
        "# **Logistic Regression from Scratch**"
      ],
      "metadata": {
        "id": "luFHLwV6RCA-"
      },
      "id": "luFHLwV6RCA-"
    },
    {
      "cell_type": "code",
      "source": [
        "# Logistic Regression\n",
        "\n",
        "# Creating a class for Logistic Regression\n",
        "class LogisticRegression():\n",
        "\n",
        "    # Initializing the learning_rate and iteration parameters\n",
        "    def __init__(self, learning_rate, iterations=1000):\n",
        "        self.learning_rate = learning_rate\n",
        "        self.iterations = iterations\n",
        "        self.weights = None\n",
        "        self.bias_value = None\n",
        "\n",
        "    # Defining sigmoid function calculation\n",
        "    def calculateSigmoidFunction(self, z):\n",
        "      return 1/(1+np.exp(-z))\n",
        "\n",
        "    # Defining the training function\n",
        "    def train(self, X, y):\n",
        "\n",
        "        m, n = X.shape\n",
        "        # Initializing the weights for features as zero\n",
        "        self.weights = np.zeros(n)\n",
        "        # Initializing the bias as zero\n",
        "        self.bias_value = 0\n",
        "\n",
        "        # Repeating the process for n number of iterations\n",
        "        for i in range(self.iterations):\n",
        "            # Calculate linear predictions using the formula y = mx + c (linear_predictions = X * weights + bias)\n",
        "            linear_predictions = np.dot(X, self.weights) + self.bias_value\n",
        "            # Our aim is to classify so apply sigmoid functions to get binary predictions\n",
        "            predictions = self.calculateSigmoidFunction(linear_predictions)\n",
        "            # Use gradient descent to calculate updated weights and bias values\n",
        "            updated_weights = (1/m) * np.dot(X.T, predictions - y)\n",
        "            updated_bias_value = (1/m) * np.sum(predictions - y)\n",
        "            # Update the weights and bias values\n",
        "            self.weights = self.weights - self.learning_rate * updated_weights\n",
        "            self.bias_value = self.bias_value - self.learning_rate * updated_bias_value\n",
        "\n",
        "    # Defining the prediction function\n",
        "    def predict(self, X):\n",
        "        # Calculate linear predictions using the formula y = mx + c (linear_predictions = X * weights + bias)\n",
        "        linear_predictions = np.dot(X, self.weights) + self.bias_value\n",
        "        # Our aim is to classify so apply sigmoid functions to get binary predictions\n",
        "        y_pred = self.calculateSigmoidFunction(linear_predictions)\n",
        "        # Setting the threshold as 0.5. If predicted value is less that 0.5, assign to class 0 else assign to 1\n",
        "        predicted_value = [0 if y<=0.5 else 1 for y in y_pred]\n",
        "        # Return the final value\n",
        "        return predicted_value"
      ],
      "metadata": {
        "id": "bdoaD914cSEC"
      },
      "id": "bdoaD914cSEC",
      "execution_count": null,
      "outputs": []
    },
    {
      "cell_type": "code",
      "source": [
        "# Apply transformations to the training and testing data sets\n",
        "X_train_pp = pp.fit_transform(X_train)\n",
        "X_test_pp = pp.transform(X_test)\n",
        "\n",
        "# Initailzing the LogisticRegression instance\n",
        "lr = LogisticRegression(0.01)\n",
        "# Training using the train dataset\n",
        "lr.train(X_train_pp, y_train)\n",
        "# Predicting on test dataset\n",
        "y_pred = lr.predict(X_test_pp)"
      ],
      "metadata": {
        "id": "RMw5y3FQPNX-"
      },
      "id": "RMw5y3FQPNX-",
      "execution_count": null,
      "outputs": []
    },
    {
      "cell_type": "markdown",
      "source": [
        "# **Perceptron Model from Scratch**"
      ],
      "metadata": {
        "id": "mor7tY1SRcZ8"
      },
      "id": "mor7tY1SRcZ8"
    },
    {
      "cell_type": "code",
      "source": [
        "# Creating a class for Perceptron\n",
        "class Perceptron:\n",
        "\n",
        "    # Initializing the learning_rate and iteration parameters\n",
        "    def __init__(self, learning_rate, iterations=1000):\n",
        "        self.learning_rate = learning_rate\n",
        "        self.iterations = iterations\n",
        "        self.weights = None\n",
        "        self.bias_value = None\n",
        "\n",
        "    # Defining unit step function calculation\n",
        "    def calculateUnitStepFunction(self, z):\n",
        "      #  Apply the unit step function incase z is greater than 0, return 1 else return 0\n",
        "      return np.where(z > 0 , 1, 0)\n",
        "\n",
        "    # Defining the training function\n",
        "    def train(self, X, y):\n",
        "        m, n = X.shape\n",
        "\n",
        "        # Initializing the weights for features as zero\n",
        "        self.weights = np.zeros(n)\n",
        "        # Initializing the bias as zero\n",
        "        self.bias_value = 0\n",
        "\n",
        "        # Calculation the results for unit step function\n",
        "        step_function = self.calculateUnitStepFunction(y)\n",
        "\n",
        "\n",
        "        for i in range(self.iterations):\n",
        "            for index, xvalues in enumerate(X):\n",
        "                # Calculate linear predictions using the formula y = mx + c (linear_predictions = X * weights + bias)\n",
        "                linear_predictions = np.dot(xvalues, self.weights) + self.bias_value\n",
        "                # Our aim is to classify so applying Unit Step Function (Activation Function)\n",
        "                y_pred_perceptron = self.calculateUnitStepFunction(linear_predictions)\n",
        "\n",
        "                # Calculating and updating the the weights\n",
        "                updated_delta = self.learning_rate * (step_function[index] - y_pred_perceptron)\n",
        "                # Upadting weights\n",
        "                self.weights += updated_delta * xvalues\n",
        "                # Updating bias values\n",
        "                self.bias_value += updated_delta\n",
        "\n",
        "    # Defining the prediction function\n",
        "    def predict(self, X):\n",
        "        # Calculate linear predictions using the formula y = mx + c (linear_predictions = X * weights + bias)\n",
        "        linear_predictions = np.dot(X, self.weights) + self.bias_value\n",
        "        # Our aim is to classify so applying Unit Step Function (Activation Function)\n",
        "        y_pred_perceptron = self.calculateUnitStepFunction(linear_predictions)\n",
        "        # Returning the predicted values\n",
        "        return y_pred_perceptron\n"
      ],
      "metadata": {
        "id": "mbYHjGpMZzb8"
      },
      "id": "mbYHjGpMZzb8",
      "execution_count": null,
      "outputs": []
    },
    {
      "cell_type": "code",
      "source": [
        "# Initailzing the Perceptron model\n",
        "pt = Perceptron(0.01)\n",
        "# Training using the train dataset\n",
        "pt.train(X_train_pp, y_train)\n",
        "# Predicting on test dataset\n",
        "y_pred_perceptron = pt.predict(X_test_pp)"
      ],
      "metadata": {
        "id": "HOJHhLrZecUe"
      },
      "id": "HOJHhLrZecUe",
      "execution_count": null,
      "outputs": []
    },
    {
      "cell_type": "markdown",
      "source": [
        "e. Evaluate the performance of both models using classification metrics such as accuracy, precision, recall, and F1-score on the testing data."
      ],
      "metadata": {
        "collapsed": false,
        "pycharm": {
          "name": "#%% md\n"
        },
        "id": "-jUhzcJLhYFh"
      },
      "id": "-jUhzcJLhYFh"
    },
    {
      "cell_type": "markdown",
      "source": [
        "# **Linear Regression Metrics**"
      ],
      "metadata": {
        "id": "702HgV7vVUXU"
      },
      "id": "702HgV7vVUXU"
    },
    {
      "cell_type": "code",
      "source": [
        "# Calculating prediction accuracy from scratch\n",
        "def calculateAccuracy(y_pred, y_test):\n",
        "    return np.sum(y_pred==y_test)/len(y_test)\n",
        "\n",
        "accuracy = calculateAccuracy(y_pred, y_test) * 100\n",
        "print(\"Accuracy % from scratch : \", accuracy)\n",
        "print()\n",
        "\n",
        "# Calculating metrics using library\n",
        "lr_metrics = [\n",
        "    accuracy_score(y_test, y_pred),\n",
        "    precision_score(y_test, y_pred, average='weighted'),\n",
        "    recall_score(y_test, y_pred, average='weighted'),\n",
        "    f1_score(y_test, y_pred, average='weighted')\n",
        "]\n",
        "\n",
        "print(\"Classification Metrics: \")\n",
        "print()\n",
        "print(\"Accuracy Score Linear Regression\", lr_metrics[0])\n",
        "print(\"Precision Score Linear Regression\", lr_metrics[1] )\n",
        "print(\"Recall Score Linear Regression\", lr_metrics[2] )\n",
        "print(\"F1 Score Linear Regression\", lr_metrics[3] )"
      ],
      "metadata": {
        "colab": {
          "base_uri": "https://localhost:8080/"
        },
        "id": "_Cg0HBtYDRq5",
        "outputId": "a8b79152-d51e-4b07-b587-053c46aae46e"
      },
      "id": "_Cg0HBtYDRq5",
      "execution_count": null,
      "outputs": [
        {
          "output_type": "stream",
          "name": "stdout",
          "text": [
            "Accuracy % from scratch :  87.85714285714286\n",
            "\n",
            "Classification Metrics: \n",
            "\n",
            "Accuracy Score Linear Regression 0.8785714285714286\n",
            "Precision Score Linear Regression 0.8649862637362636\n",
            "Recall Score Linear Regression 0.8785714285714286\n",
            "F1 Score Linear Regression 0.8592156111270799\n"
          ]
        }
      ]
    },
    {
      "cell_type": "markdown",
      "source": [
        "# **Perceptron Metrics**"
      ],
      "metadata": {
        "id": "o3YAPy8CipAD"
      },
      "id": "o3YAPy8CipAD"
    },
    {
      "cell_type": "code",
      "source": [
        "# Calculating prediction accuracy from scratch\n",
        "def calculateAccuracy(y_pred, y_test):\n",
        "    return np.sum(y_pred==y_test)/len(y_test)\n",
        "\n",
        "accuracy = calculateAccuracy(y_pred_perceptron, y_test) * 100\n",
        "print(\"Accuracy % from scratch : \", accuracy)\n",
        "print()\n",
        "\n",
        "# Calculating metrics using library\n",
        "lr_metrics = [\n",
        "    accuracy_score(y_test, y_pred_perceptron),\n",
        "    precision_score(y_test, y_pred_perceptron, average='weighted'),\n",
        "    recall_score(y_test, y_pred_perceptron, average='weighted'),\n",
        "    f1_score(y_test, y_pred_perceptron, average='weighted')\n",
        "]\n",
        "\n",
        "print(\"Classification Metrics: \")\n",
        "print()\n",
        "print(\"Accuracy Score Perceptron Model\", lr_metrics[0])\n",
        "print(\"Precision Score Perceptron Model\", lr_metrics[1] )\n",
        "print(\"Recall Score Perceptron Model\", lr_metrics[2] )\n",
        "print(\"F1 Score Perceptron Model\", lr_metrics[3] )"
      ],
      "metadata": {
        "colab": {
          "base_uri": "https://localhost:8080/"
        },
        "id": "bIiXPBEcpliN",
        "outputId": "bb121193-fcad-46a4-c93f-34f3edba5401"
      },
      "id": "bIiXPBEcpliN",
      "execution_count": null,
      "outputs": [
        {
          "output_type": "stream",
          "name": "stdout",
          "text": [
            "Accuracy % from scratch :  84.82142857142857\n",
            "\n",
            "Classification Metrics: \n",
            "\n",
            "Accuracy Score Perceptron Model 0.8482142857142857\n",
            "Precision Score Perceptron Model 0.8364088794997323\n",
            "Recall Score Perceptron Model 0.8482142857142857\n",
            "F1 Score Perceptron Model 0.841227525608271\n"
          ]
        }
      ]
    },
    {
      "cell_type": "markdown",
      "source": [
        "f. Compare and contrast the performance of the Perceptron model and the Logistic Regression model. Which model performed better, and why? Discuss any differences in their decision boundaries and the interpretability of their results."
      ],
      "metadata": {
        "collapsed": false,
        "pycharm": {
          "name": "#%% md\n"
        },
        "id": "S6b1i2oDhYFh"
      },
      "id": "S6b1i2oDhYFh"
    },
    {
      "cell_type": "markdown",
      "source": [
        "As seen in the results, Linear Regression has a slightly higher accuracy score (0.8786) when compared to the Perceptron Model (0.8482) which indicates that Linear model made correct predictions for a larger proportion of the samples.\n",
        "\n",
        "It also has a hifger F1 score (0.8592) as compared to the Perceptron Model (0.8412). F1 score calculates a balance between precision and recall, and in general higher F1 score represents a model with better overall performance."
      ],
      "metadata": {
        "id": "ke3WUNnSGrSE"
      },
      "id": "ke3WUNnSGrSE"
    },
    {
      "cell_type": "markdown",
      "source": [
        "g. Provide recommendations on when to choose one model over the other for this specific marketing campaign scenario."
      ],
      "metadata": {
        "collapsed": false,
        "pycharm": {
          "name": "#%% md\n"
        },
        "id": "Ze2HIMMuhYFi"
      },
      "id": "Ze2HIMMuhYFi"
    },
    {
      "cell_type": "markdown",
      "source": [
        "We should choose the Logistic Regression model incase we need probabilities for outcomes. Example can be a crucial in marketing or ad campaign where understanding the likelihood of different customer behaviors is required.\n",
        "\n",
        "We should choose the Perceptron Model in case we need a simple, fast, and interpretable model. It's a linear model with a straightforward decision boundary, making it easy to understand. Example can be a case of a giveaway where we do not need to understand probabilistic nuances."
      ],
      "metadata": {
        "id": "Gcb24a9HHxWF"
      },
      "id": "Gcb24a9HHxWF"
    }
  ],
  "metadata": {
    "kernelspec": {
      "display_name": "Python 3",
      "language": "python",
      "name": "python3"
    },
    "language_info": {
      "codemirror_mode": {
        "name": "ipython",
        "version": 3
      },
      "file_extension": ".py",
      "mimetype": "text/x-python",
      "name": "python",
      "nbconvert_exporter": "python",
      "pygments_lexer": "ipython3",
      "version": "3.6.8"
    },
    "colab": {
      "provenance": []
    }
  },
  "nbformat": 4,
  "nbformat_minor": 5
}